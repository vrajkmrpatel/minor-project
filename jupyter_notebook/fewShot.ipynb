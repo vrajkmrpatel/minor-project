{
 "cells": [
  {
   "cell_type": "code",
   "execution_count": 1,
   "metadata": {},
   "outputs": [],
   "source": [
    "from dotenv import load_dotenv\n",
    "\n",
    "load_dotenv()\n",
    "import os\n",
    "OPENAI_API_KEY=os.getenv(\"OPENAI_API_KEY\")"
   ]
  },
  {
   "cell_type": "code",
   "execution_count": null,
   "metadata": {},
   "outputs": [],
   "source": []
  },
  {
   "cell_type": "code",
   "execution_count": 2,
   "metadata": {},
   "outputs": [],
   "source": [
    "from langchain.prompts import (\n",
    "    ChatPromptTemplate,\n",
    "    FewShotChatMessagePromptTemplate,\n",
    ")"
   ]
  },
  {
   "cell_type": "code",
   "execution_count": 3,
   "metadata": {},
   "outputs": [],
   "source": [
    "examples = [\n",
    "    {\"input\": \"(2+2)*2\", \"output\": \"To solve this question \\nStep 1:Higher priority will go to paranthesis so (2+2)=4 \\nStep 2:Multiply by 2 so we will get answer 4*2 that is 8\"},\n",
    "    {\"input\": \"(2*3)-2\", \"output\": \"To solve this question \\nStep 1:Higher priority will go to paranthesis so (2*3)=6 \\nStep 2:Subtract by 2 so we will get answer 6-2 that is 4\"},\n",
    "]"
   ]
  },
  {
   "cell_type": "code",
   "execution_count": 4,
   "metadata": {},
   "outputs": [
    {
     "name": "stdout",
     "output_type": "stream",
     "text": [
      "Human: (2+2)*2\n",
      "AI: To solve this question \n",
      "Step 1:Higher priority will go to paranthesis so (2+2)=4 \n",
      "Step 2:Multiply by 2 so we will get answer 4*2 that is 8\n",
      "Human: (2*3)-2\n",
      "AI: To solve this question \n",
      "Step 1:Higher priority will go to paranthesis so (2*3)=6 \n",
      "Step 2:Subtract by 2 so we will get answer 6-2 that is 4\n"
     ]
    }
   ],
   "source": [
    "# FewShots prompt\n",
    "example_prompt = ChatPromptTemplate.from_messages(\n",
    "    [\n",
    "        (\"human\", \"{input}\"),\n",
    "        (\"ai\", \"{output}\"),\n",
    "    ]\n",
    ")\n",
    "few_shot_prompt = FewShotChatMessagePromptTemplate(\n",
    "    example_prompt=example_prompt,\n",
    "    examples=examples,\n",
    ")\n",
    "\n",
    "print(few_shot_prompt.format())"
   ]
  },
  {
   "cell_type": "code",
   "execution_count": 5,
   "metadata": {},
   "outputs": [],
   "source": [
    "user_input = \"Solve this question ((19*(10-(5+5)))%10)\"\n",
    "final_prompt = ChatPromptTemplate.from_messages(\n",
    "    [\n",
    "        (\"system\", \"You are a wondrous wizard of math.\"),\n",
    "        few_shot_prompt,\n",
    "        (\"human\", user_input),\n",
    "    ]\n",
    ")"
   ]
  },
  {
   "cell_type": "code",
   "execution_count": 6,
   "metadata": {},
   "outputs": [
    {
     "name": "stdout",
     "output_type": "stream",
     "text": [
      "Answer using Fewshot\n",
      "To solve this question, let's break it down step by step:\n",
      "\n",
      "1. Solve the innermost parenthesis: \\( (5+5) = 10 \\)\n",
      "\n",
      "2. Substitute back into the expression: \\( 10 - (5+5) \\) becomes \\( 10 - 10 \\)\n",
      "\n",
      "3. Solve the subtraction: \\( 10 - 10 = 0 \\)\n",
      "\n",
      "4. Substitute back into the expression: \\( 19 * (10 - (5+5)) \\) becomes \\( 19 * 0 \\)\n",
      "\n",
      "5. Solve the multiplication: \\( 19 * 0 = 0 \\)\n",
      "\n",
      "6. Finally, solve the modulus operation: \\( 0 \\% 10 = 0 \\)\n",
      "\n",
      "Therefore, the answer is 0.\n"
     ]
    }
   ],
   "source": [
    "from langchain_openai import ChatOpenAI\n",
    "import openai\n",
    "print(\"Answer using Fewshot\")\n",
    "llm = ChatOpenAI(\n",
    "    api_key=OPENAI_API_KEY,\n",
    "    model_name=\"gpt-4\",\n",
    ")\n",
    "\n",
    "completion = openai.chat.completions.create(\n",
    "    model=\"gpt-4o\",\n",
    "    messages=[\n",
    "        {\"role\": \"system\", \"content\": \"You are a wondrous wizard of math.\"},\n",
    "        {\n",
    "            \"role\": \"user\",\n",
    "            \"content\": str(final_prompt)\n",
    "        }\n",
    "    ]\n",
    ")\n",
    "print(completion.choices[0].message.content)\n",
    "\n",
    "# ((19*(10-(5+5)))%10)"
   ]
  },
  {
   "cell_type": "code",
   "execution_count": 7,
   "metadata": {},
   "outputs": [
    {
     "name": "stdout",
     "output_type": "stream",
     "text": [
      "Answer using Zero shot\n"
     ]
    },
    {
     "data": {
      "text/plain": [
       "'0'"
      ]
     },
     "execution_count": 7,
     "metadata": {},
     "output_type": "execute_result"
    }
   ],
   "source": [
    "print(\"Answer using Zero shot\")\n",
    "llm.invoke(user_input).content"
   ]
  },
  {
   "cell_type": "markdown",
   "metadata": {},
   "source": [
    "### Another Example"
   ]
  },
  {
   "cell_type": "code",
   "execution_count": 8,
   "metadata": {},
   "outputs": [],
   "source": [
    "# FewShot examples\n",
    "examples = [\n",
    "    {\n",
    "        \"input\": \"What is the purpose of the Requirement Analysis phase in SDLC?\",\n",
    "        \"output\": \"To solve this question \\nStep 1: Understand that the Requirement Analysis phase is the first step in SDLC. \\nStep 2: In this phase, the needs and expectations of stakeholders are gathered and analyzed. \\nStep 3: The main goal is to clearly define the software's functionality and constraints to avoid future ambiguities.\"\n",
    "    },\n",
    "    {\n",
    "        \"input\": \"What is the Design phase in SDLC?\",\n",
    "        \"output\": \"To solve this question \\nStep 1: Recognize that the Design phase follows Requirement Analysis. \\nStep 2: In this phase, the system's architecture and detailed design are created. \\nStep 3: The design documents serve as a blueprint for implementation, ensuring a systematic approach to coding.\"\n",
    "    },\n",
    "]\n"
   ]
  },
  {
   "cell_type": "code",
   "execution_count": 9,
   "metadata": {},
   "outputs": [
    {
     "name": "stdout",
     "output_type": "stream",
     "text": [
      "Human: What is the purpose of the Requirement Analysis phase in SDLC?\n",
      "AI: To solve this question \n",
      "Step 1: Understand that the Requirement Analysis phase is the first step in SDLC. \n",
      "Step 2: In this phase, the needs and expectations of stakeholders are gathered and analyzed. \n",
      "Step 3: The main goal is to clearly define the software's functionality and constraints to avoid future ambiguities.\n",
      "Human: What is the Design phase in SDLC?\n",
      "AI: To solve this question \n",
      "Step 1: Recognize that the Design phase follows Requirement Analysis. \n",
      "Step 2: In this phase, the system's architecture and detailed design are created. \n",
      "Step 3: The design documents serve as a blueprint for implementation, ensuring a systematic approach to coding.\n"
     ]
    }
   ],
   "source": [
    "# Fewshot Template\n",
    "example_prompt = ChatPromptTemplate.from_messages(\n",
    "    [\n",
    "        (\"human\", \"{input}\"),\n",
    "        (\"ai\", \"{output}\"),\n",
    "    ]\n",
    ")\n",
    "few_shot_prompt = FewShotChatMessagePromptTemplate(\n",
    "    example_prompt=example_prompt,\n",
    "    examples=examples,\n",
    ")\n",
    "\n",
    "print(few_shot_prompt.format())\n"
   ]
  },
  {
   "cell_type": "code",
   "execution_count": 10,
   "metadata": {},
   "outputs": [],
   "source": [
    "# Final prompt with Fewshot \n",
    "user_input = \"What is the purpose of the Testing phase in SDLC?\"\n",
    "final_prompt = ChatPromptTemplate.from_messages(\n",
    "    [\n",
    "        (\"system\", \"You are a wondrous wizard of Software Engineering.\"),\n",
    "        few_shot_prompt,\n",
    "        (\"human\", \"What is the purpose of the Testing phase in SDLC?\"),\n",
    "    ]\n",
    ")\n"
   ]
  },
  {
   "cell_type": "code",
   "execution_count": 11,
   "metadata": {},
   "outputs": [
    {
     "name": "stdout",
     "output_type": "stream",
     "text": [
      "FewShot\n",
      "To solve this question\n",
      "\n",
      "Step 1: Identify that the Testing phase comes after the coding phase in the Software Development Life Cycle (SDLC).\n",
      "Step 2: Understand that the primary purpose of the Testing phase is to ensure the software meets the specified requirements.\n",
      "Step 3: During this phase, the software is rigorously tested for bugs, defects, and any deviation from the expected results.\n",
      "Step 4: The goal is to identify and resolve issues before the software is deployed to ensure reliability and quality.\n"
     ]
    }
   ],
   "source": [
    "\n",
    "from langchain_openai import ChatOpenAI\n",
    "import openai\n",
    "\n",
    "llm = ChatOpenAI(\n",
    "    api_key=OPENAI_API_KEY,\n",
    "    model_name=\"gpt-4\",\n",
    ")\n",
    "\n",
    "completion = openai.chat.completions.create(\n",
    "    model=\"gpt-4o\",\n",
    "    messages=[\n",
    "        {\"role\": \"system\", \"content\": \"You are a wondrous wizard of Software Engineering.\"},\n",
    "        {\n",
    "            \"role\": \"user\",\n",
    "            \"content\": str(final_prompt)\n",
    "        }\n",
    "    ]\n",
    ")\n",
    "print('FewShot')\n",
    "print(completion.choices[0].message.content)\n"
   ]
  },
  {
   "cell_type": "code",
   "execution_count": 12,
   "metadata": {},
   "outputs": [
    {
     "name": "stdout",
     "output_type": "stream",
     "text": [
      "Zero shot\n"
     ]
    },
    {
     "data": {
      "text/plain": [
       "'The purpose of the Testing phase in Software Development Life Cycle (SDLC) is to identify and fix any errors or bugs in the system before the software is fully deployed. It is a critical step to ensure the software functions as intended and meets the specified requirements. In this phase, the system is tested under controlled conditions to check if it produces the expected outcomes. It is also tested for its performance, security, compatibility, and usability.'"
      ]
     },
     "execution_count": 12,
     "metadata": {},
     "output_type": "execute_result"
    }
   ],
   "source": [
    "print('Zero shot')\n",
    "llm.invoke(user_input).content\n"
   ]
  },
  {
   "cell_type": "markdown",
   "metadata": {},
   "source": [
    "'The purpose of the Testing phase in Software Development Life Cycle (SDLC) is to identify and fix any errors or bugs in the system before the software is fully deployed. It is a critical step to ensure the software functions as intended and meets the specified requirements. In this phase, the system is tested under controlled conditions to check if it produces the expected outcomes. It is also tested for its performance, security, compatibility, and usability.'\n"
   ]
  },
  {
   "cell_type": "markdown",
   "metadata": {},
   "source": [
    "### Another Example(Use cases)"
   ]
  },
  {
   "cell_type": "code",
   "execution_count": 13,
   "metadata": {},
   "outputs": [],
   "source": [
    "# Few shots \n",
    "examples = [\n",
    "    {\n",
    "        \"input\": \"You are tasked with creating a library management system. How will you gather requirements for this project?\",\n",
    "        \"output\": \"To solve this question \\nStep 1: Identify the actors in the system, such as Librarians, Members, and Administrators. \\nStep 2: Conduct interviews or surveys with these actors to understand their needs. \\nStep 3: Use techniques like brainstorming, use-case analysis, and observation to gather detailed requirements. \\nStep 4: Create a requirement document, categorizing them into functional (e.g., issuing books, tracking overdue) and non-functional (e.g., system availability, security).\"\n",
    "    },\n",
    "    {\n",
    "        \"input\": \"A company needs a payroll system. How will you determine the requirements for this project?\",\n",
    "        \"output\": \"To solve this question \\nStep 1: Identify the key actors, such as HR personnel, employees, and payroll administrators. \\nStep 2: Conduct workshops or meetings to understand what the payroll system needs to handle, such as salary calculation, tax deductions, and report generation. \\nStep 3: Analyze any existing systems or workflows to identify gaps or inefficiencies. \\nStep 4: Document the findings, ensuring to specify both functional requirements (e.g., calculate monthly salaries) and non-functional requirements (e.g., the system should generate reports in under 5 seconds).\"\n",
    "    },\n",
    "]\n"
   ]
  },
  {
   "cell_type": "code",
   "execution_count": 14,
   "metadata": {},
   "outputs": [
    {
     "name": "stdout",
     "output_type": "stream",
     "text": [
      "Human: You are tasked with creating a library management system. How will you gather requirements for this project?\n",
      "AI: To solve this question \n",
      "Step 1: Identify the actors in the system, such as Librarians, Members, and Administrators. \n",
      "Step 2: Conduct interviews or surveys with these actors to understand their needs. \n",
      "Step 3: Use techniques like brainstorming, use-case analysis, and observation to gather detailed requirements. \n",
      "Step 4: Create a requirement document, categorizing them into functional (e.g., issuing books, tracking overdue) and non-functional (e.g., system availability, security).\n",
      "Human: A company needs a payroll system. How will you determine the requirements for this project?\n",
      "AI: To solve this question \n",
      "Step 1: Identify the key actors, such as HR personnel, employees, and payroll administrators. \n",
      "Step 2: Conduct workshops or meetings to understand what the payroll system needs to handle, such as salary calculation, tax deductions, and report generation. \n",
      "Step 3: Analyze any existing systems or workflows to identify gaps or inefficiencies. \n",
      "Step 4: Document the findings, ensuring to specify both functional requirements (e.g., calculate monthly salaries) and non-functional requirements (e.g., the system should generate reports in under 5 seconds).\n"
     ]
    }
   ],
   "source": [
    "\n",
    "# This is a prompt template used to format each individual example.\n",
    "example_prompt = ChatPromptTemplate.from_messages(\n",
    "    [\n",
    "        (\"human\", \"{input}\"),\n",
    "        (\"ai\", \"{output}\"),\n",
    "    ]\n",
    ")\n",
    "few_shot_prompt = FewShotChatMessagePromptTemplate(\n",
    "    example_prompt=example_prompt,\n",
    "    examples=examples,\n",
    ")\n",
    "\n",
    "print(few_shot_prompt.format())"
   ]
  },
  {
   "cell_type": "code",
   "execution_count": 15,
   "metadata": {},
   "outputs": [],
   "source": [
    "\n",
    "\n",
    "user_input = \"A university wants an online course registration system. How will you gather requirements for this project?\"\n",
    "final_prompt = ChatPromptTemplate.from_messages(\n",
    "    [\n",
    "        (\"system\", \"You are a software engineering expert specializing in requirement gathering.\"),\n",
    "        few_shot_prompt,\n",
    "        (\"human\", user_input),\n",
    "    ]\n",
    ")\n"
   ]
  },
  {
   "cell_type": "code",
   "execution_count": 16,
   "metadata": {},
   "outputs": [
    {
     "name": "stdout",
     "output_type": "stream",
     "text": [
      "To address this question, follow a structured approach to requirement gathering:\n",
      "\n",
      "Step 1: Identify Key Stakeholders\n",
      "- Key stakeholders may include students, faculty members, administrative staff, and the IT department.\n",
      "- Hold initial discussions with them to understand their roles in the registration process.\n",
      "\n",
      "Step 2: Conduct Interviews and Surveys\n",
      "- Conduct interviews with students to understand their expectations and pain points with the current registration process.\n",
      "- Survey faculty to gather insights on how they would like to manage course listings and prerequisites.\n",
      "\n",
      "Step 3: Perform Use-Case Analysis\n",
      "- Develop use cases for typical interactions, such as a student registering for courses, a faculty member creating a course schedule, and admin processes for adding or modifying courses.\n",
      "\n",
      "Step 4: Analyze Current Systems\n",
      "- If a system or process exists, review it to identify gaps and areas for improvement.\n",
      "- Observe the current workflow during peak registration periods to capture potential performance issues.\n",
      "\n",
      "Step 5: Categorize Requirements\n",
      "- Document functional requirements, such as course searching, registration, waitlisting, and notifications.\n",
      "- Identify non-functional requirements, including system reliability during high traffic, data security, and user interface accessibility.\n",
      "\n",
      "Step 6: Draft a Requirements Document\n",
      "- Compile all gathered information into a detailed requirements document.\n",
      "- Validate the document with stakeholders to ensure accuracy and completeness before moving to the design phase.\n"
     ]
    }
   ],
   "source": [
    "\n",
    "from langchain_openai import ChatOpenAI\n",
    "import openai\n",
    "\n",
    "llm = ChatOpenAI(\n",
    "    api_key=OPENAI_API_KEY,\n",
    "    model_name=\"gpt-4\",\n",
    ")\n",
    "\n",
    "completion = openai.chat.completions.create(\n",
    "    model=\"gpt-4o\",\n",
    "    messages=[\n",
    "        {\"role\": \"system\", \"content\": \"You are a software engineering expert specializing in requirement gathering.\"},\n",
    "        {\n",
    "            \"role\": \"user\",\n",
    "            \"content\": str(final_prompt)\n",
    "        }\n",
    "    ]\n",
    ")\n",
    "print(completion.choices[0].message.content)\n"
   ]
  },
  {
   "cell_type": "code",
   "execution_count": 17,
   "metadata": {},
   "outputs": [
    {
     "name": "stdout",
     "output_type": "stream",
     "text": [
      "Zero shot\n"
     ]
    },
    {
     "data": {
      "text/plain": [
       "'1. Conduct a Meeting with Stakeholders: This should include university administrators, faculty members, and students. Ask them what they want from the online course registration system, what they expect, and what problems they want it to solve.\\n\\n2. Interview Students: Ask them what their current methods of registration are, what problems they are facing, what improvements they would like to see in the new system.\\n\\n3. Interview Faculty and Staff: Ask how they manage course schedules, seats, how they would like the registration system to work, and what problems they want it to address.\\n\\n4. Analyze Existing Registration System: If the university already has an offline or old online registration system, analyze it to identify its strengths and weaknesses.\\n\\n5. Review Regulations: Understand any legal or university-specific requirements that need to be incorporated into the system.\\n\\n6. Research Best Practices: Look at how other universities or educational institutions are handling course registration online and note down the best functionalities.\\n\\n7. Use Surveys: Create and distribute surveys to a larger student and faculty population to gather broader feedback about their perspectives and experiences.\\n\\n8. Define User Roles: Understand the different users of the system (students, professors, administrative staff, etc.) and identify the tasks and functions they will need to perform.\\n\\n9. Set Goals: Identify the goals of the system in terms of usage, capacity, user satisfaction, and so on.\\n\\n10. Prioritize Requirements: Some features might be essential, and others could be nice-to-have. Classify requirements depending on their priority to effectively manage development.\\n\\n11. Documentation: Write down all the collected requirements in a document and present it to the project team and stakeholders. \\n\\nRemember that requirements gathering is an iterative process, so it is important to check back regularly with the stakeholders and users as the project progresses to ensure the system meets their needs.'"
      ]
     },
     "execution_count": 17,
     "metadata": {},
     "output_type": "execute_result"
    }
   ],
   "source": [
    "print('Zero shot')\n",
    "llm.invoke(user_input).content\n"
   ]
  },
  {
   "cell_type": "markdown",
   "metadata": {},
   "source": [
    "'1. Conduct a Meeting with Stakeholders: This should include university administrators, faculty members, and students. Ask them what they want from the online course registration system, what they expect, and what problems they want it to solve.\\n\\n2. Interview Students: Ask them what their current methods of registration are, what problems they are facing, what improvements they would like to see in the new system.\\n\\n3. Interview Faculty and Staff: Ask how they manage course schedules, seats, how they would like the registration system to work, and what problems they want it to address.\\n\\n4. Analyze Existing Registration System: If the university already has an offline or old online registration system, analyze it to identify its strengths and weaknesses.\\n\\n5. Review Regulations: Understand any legal or university-specific requirements that need to be incorporated into the system.\\n\\n6. Research Best Practices: Look at how other universities or educational institutions are handling course registration online and note down the best functionalities.\\n\\n7. Use Surveys: Create and distribute surveys to a larger student and faculty population to gather broader feedback about their perspectives and experiences.\\n\\n8. Define User Roles: Understand the different users of the system (students, professors, administrative staff, etc.) and identify the tasks and functions they will need to perform.\\n\\n9. Set Goals: Identify the goals of the system in terms of usage, capacity, user satisfaction, and so on.\\n\\n10. Prioritize Requirements: Some features might be essential, and others could be nice-to-have. Classify requirements depending on their priority to effectively manage development.\\n\\n11. Documentation: Write down all the collected requirements in a document and present it to the project team and stakeholders. \\n\\nRemember that requirements gathering is an iterative process, so it is important to check back regularly with the stakeholders and users as the project progresses to ensure the system meets their needs.'\n",
    "H"
   ]
  },
  {
   "cell_type": "markdown",
   "metadata": {},
   "source": [
    "### Another Example(User stories)"
   ]
  },
  {
   "cell_type": "code",
   "execution_count": 18,
   "metadata": {},
   "outputs": [],
   "source": [
    "examples = [\n",
    "    {\n",
    "        \"input\": \"Create user stories for a Library Management System.\",\n",
    "        \"output\": \"To solve this question \\nStep 1: Identify the key actors, such as Librarians, Members, and Administrators. \\nStep 2: Generate user stories for each actor:\\n\\n- **As a librarian**, I want to issue books to members so that they can borrow them from the library.\\n- **As a librarian**, I want to receive returned books so that the inventory is updated.\\n- **As a member**, I want to search for books by title, author, or genre so that I can find what I need easily.\\n- **As a member**, I want to view my borrowing history so that I can keep track of my past loans.\\n- **As an administrator**, I want to generate reports on overdue books so that fines can be collected efficiently.\"\n",
    "    },\n",
    "    {\n",
    "        \"input\": \"Create user stories for an Online Course Registration System.\",\n",
    "        \"output\": \"To solve this question \\nStep 1: Identify the key actors, such as Students, Professors, and Admin Staff. \\nStep 2: Generate user stories for each actor:\\n\\n- **As a student**, I want to browse available courses so that I can decide which ones to register for.\\n- **As a student**, I want to add courses to my cart and register for them so that I can enroll in my preferred schedule.\\n- **As a professor**, I want to view the list of registered students so that I can prepare for my classes.\\n- **As an admin staff**, I want to manage course availability so that the system stays up-to-date.\\n- **As an admin staff**, I want to send reminders to students about registration deadlines so that no one misses the enrollment period.\"\n",
    "    },\n",
    "]\n"
   ]
  },
  {
   "cell_type": "code",
   "execution_count": 19,
   "metadata": {},
   "outputs": [
    {
     "name": "stdout",
     "output_type": "stream",
     "text": [
      "Human: Create user stories for a Library Management System.\n",
      "AI: To solve this question \n",
      "Step 1: Identify the key actors, such as Librarians, Members, and Administrators. \n",
      "Step 2: Generate user stories for each actor:\n",
      "\n",
      "- **As a librarian**, I want to issue books to members so that they can borrow them from the library.\n",
      "- **As a librarian**, I want to receive returned books so that the inventory is updated.\n",
      "- **As a member**, I want to search for books by title, author, or genre so that I can find what I need easily.\n",
      "- **As a member**, I want to view my borrowing history so that I can keep track of my past loans.\n",
      "- **As an administrator**, I want to generate reports on overdue books so that fines can be collected efficiently.\n",
      "Human: Create user stories for an Online Course Registration System.\n",
      "AI: To solve this question \n",
      "Step 1: Identify the key actors, such as Students, Professors, and Admin Staff. \n",
      "Step 2: Generate user stories for each actor:\n",
      "\n",
      "- **As a student**, I want to browse available courses so that I can decide which ones to register for.\n",
      "- **As a student**, I want to add courses to my cart and register for them so that I can enroll in my preferred schedule.\n",
      "- **As a professor**, I want to view the list of registered students so that I can prepare for my classes.\n",
      "- **As an admin staff**, I want to manage course availability so that the system stays up-to-date.\n",
      "- **As an admin staff**, I want to send reminders to students about registration deadlines so that no one misses the enrollment period.\n"
     ]
    }
   ],
   "source": [
    "# This is a prompt template used to format each individual example.\n",
    "example_prompt = ChatPromptTemplate.from_messages(\n",
    "    [\n",
    "        (\"human\", \"{input}\"),\n",
    "        (\"ai\", \"{output}\"),\n",
    "    ]\n",
    ")\n",
    "few_shot_prompt = FewShotChatMessagePromptTemplate(\n",
    "    example_prompt=example_prompt,\n",
    "    examples=examples,\n",
    ")\n",
    "\n",
    "print(few_shot_prompt.format())\n"
   ]
  },
  {
   "cell_type": "code",
   "execution_count": 20,
   "metadata": {},
   "outputs": [],
   "source": [
    "user_input = \"Create user stories for an E-commerce Website.\"\n",
    "final_prompt = ChatPromptTemplate.from_messages(\n",
    "    [\n",
    "        (\"system\", \"You are an expert in generating user stories for software development.\"),\n",
    "        few_shot_prompt,\n",
    "        (\"human\", user_input),\n",
    "    ]\n",
    ")\n"
   ]
  },
  {
   "cell_type": "code",
   "execution_count": 21,
   "metadata": {},
   "outputs": [
    {
     "name": "stdout",
     "output_type": "stream",
     "text": [
      "To solve this question:\n",
      "\n",
      "Step 1: Identify the key actors, such as Customers, Sellers, and Administrators.\n",
      "\n",
      "Step 2: Generate user stories for each actor:\n",
      "\n",
      "- **As a customer**, I want to browse products by category and use search filters so that I can easily find items that interest me.\n",
      "- **As a customer**, I want to add products to my shopping cart and proceed to checkout so that I can purchase items seamlessly.\n",
      "- **As a customer**, I want to read customer reviews and ratings for products so that I can make informed purchasing decisions.\n",
      "- **As a seller**, I want to list new products with images and descriptions so that customers can discover my offerings.\n",
      "- **As a seller**, I want to track my sales performance and manage inventory so that I can optimize my store’s operations.\n",
      "- **As an administrator**, I want to monitor transactions for fraudulent activities so that I can maintain the security of the platform.\n",
      "- **As an administrator**, I want to manage user accounts and resolve disputes so that I can ensure a smooth user experience for both buyers and sellers.\n"
     ]
    }
   ],
   "source": [
    "from langchain_openai import ChatOpenAI\n",
    "import openai\n",
    "\n",
    "llm = ChatOpenAI(\n",
    "    api_key=OPENAI_API_KEY,\n",
    "    model_name=\"gpt-4\",\n",
    ")\n",
    "\n",
    "completion = openai.chat.completions.create(\n",
    "    model=\"gpt-4o\",\n",
    "    messages=[\n",
    "        {\"role\": \"system\", \"content\": \"You are an expert in generating user stories for software development.\"},\n",
    "        {\n",
    "            \"role\": \"user\",\n",
    "            \"content\": str(final_prompt)\n",
    "        }\n",
    "    ]\n",
    ")\n",
    "print(completion.choices[0].message.content)\n"
   ]
  },
  {
   "cell_type": "code",
   "execution_count": null,
   "metadata": {},
   "outputs": [
    {
     "name": "stdout",
     "output_type": "stream",
     "text": [
      "Zero shot\n"
     ]
    }
   ],
   "source": [
    "print('Zero shot')\n",
    "llm.invoke(user_input).content\n"
   ]
  },
  {
   "cell_type": "markdown",
   "metadata": {},
   "source": [
    "\n",
    "\"1. As a new user, I want to be able to register for a personal account so that I can make purchases and save my shipping and payment details.<br><br>2. As a registered user, I want to be able to log in securely and view my profile, so I can keep track of my previous orders and update my details as needed.<br><br>3. As a shopper, I want to be able to search for products by their name, brand, category, or specific attributes so I can quickly find what I'm looking for.<br><br>4. As a shopper, I want to be able to view detailed product information, images, reviews, and ratings, so I can make an informed purchase decision.<br><br>5. As a shopper, I want to be able to compare similar products, so I can find the best one for my needs.<br><br>6. As an online shopper, I want to add products to my shopping cart and have the option to continue shopping or proceed to checkout.<br><br>7. As a shopper, I want the site to show me relevant product recommendations based on my browsing and purchasing history for a personalized shopping experience.<br><br>8. As a customer, I want to be able to apply promo codes and gift cards at checkout to avail the discounts being offered.<br><br>9. As a customer, I want various secure payment options, including credit card, PayPal, and cash on delivery, so I can choose the most convenient method.<br><br>10. As a registered user, I want to receive email notifications about order confirmations, shipping, order tracking, and delivery for constant updates.<br><br>11. As a loyal customer, I want to enroll in a loyalty program that rewards me with points and special discounts for every purchase.<br><br>12. As a shopper, I want to be able to view and sort products by price, popularity, rating, or newness to find the best deal or product for me.<br><br>13. As a shopper, I want to be able to save items I am interested in for future purchase in my wishlist.<br><br>14. As a customer, I want the ability to return or exchange products I am not satisfied with as per the company's return policy.<br><br>15. As a user, I want to be able to contact customer service via live chat, email, or phone for any inquiries or issues I have. <br><br>16. As a customer, I want to leave reviews and ratings on products I have purchased to share my experience with other shoppers.\""
   ]
  },
  {
   "cell_type": "code",
   "execution_count": 130,
   "metadata": {},
   "outputs": [],
   "source": [
    "# Apart from mathematics normally you will see more time is required in zero shot prompting and less time in few shot prompting why?"
   ]
  },
  {
   "cell_type": "markdown",
   "metadata": {},
   "source": [
    "### Tree of Thoughts"
   ]
  },
  {
   "cell_type": "markdown",
   "metadata": {},
   "source": [
    "In the usual CoT (Chain of Thoughts) approach, LLMs tend to progress linearly in their thinking towards problem solving, and if an error occurs along the way, they tend to proceed along that erroneous criterion.\n",
    "\n",
    "In contrast, in the ToT (Tree of Thoughts) approach, LLMs evaluate themselves at each stage of thought and stop inefficient approaches early, switching to alternative methods.\n",
    "\n",
    "https://arxiv.org/pdf/2305.10601"
   ]
  },
  {
   "cell_type": "code",
   "execution_count": 1,
   "metadata": {},
   "outputs": [
    {
     "name": "stderr",
     "output_type": "stream",
     "text": [
      "C:\\Users\\Mohammed Ammar\\AppData\\Local\\Temp\\ipykernel_11116\\1100561737.py:20: LangChainDeprecationWarning: The class `ChatOpenAI` was deprecated in LangChain 0.0.10 and will be removed in 1.0. An updated version of the class exists in the :class:`~langchain-openai package and should be used instead. To use it run `pip install -U :class:`~langchain-openai` and import as `from :class:`~langchain_openai import ChatOpenAI``.\n",
      "  llm=ChatOpenAI(temperature=0, model=\"gpt-4\"),\n",
      "C:\\Users\\Mohammed Ammar\\AppData\\Local\\Temp\\ipykernel_11116\\1100561737.py:19: LangChainDeprecationWarning: The class `LLMChain` was deprecated in LangChain 0.1.17 and will be removed in 1.0. Use :meth:`~RunnableSequence, e.g., `prompt | llm`` instead.\n",
      "  chain1 = LLMChain(\n"
     ]
    }
   ],
   "source": [
    "from langchain.chains import LLMChain\n",
    "from langchain.llms import OpenAI\n",
    "from langchain.prompts import PromptTemplate\n",
    "from langchain.chat_models import ChatOpenAI\n",
    "\n",
    "\n",
    "template =\"\"\"\n",
    "Step1 :\n",
    " \n",
    "I have a problem related to {input}. Could you brainstorm three distinct solutions? Please consider a variety of factors such as {perfect_factors}\n",
    "A:\n",
    "\"\"\"\n",
    "\n",
    "prompt = PromptTemplate(\n",
    "    input_variables=[\"input\",\"perfect_factors\"],\n",
    "    template = template                      \n",
    ")\n",
    "\n",
    "chain1 = LLMChain(\n",
    "    llm=ChatOpenAI(temperature=0, model=\"gpt-4\"),\n",
    "    prompt=prompt,\n",
    "    output_key=\"solutions\"\n",
    ")\n",
    "\n",
    "template =\"\"\"\n",
    "Step 2:\n",
    "\n",
    "For each of the three proposed solutions, evaluate their potential. Consider their pros and cons, initial effort needed, implementation difficulty, potential challenges, and the expected outcomes. Assign a probability of success and a confidence level to each option based on these factors\n",
    "\n",
    "{solutions}\n",
    "\n",
    "A:\"\"\"\n",
    "\n",
    "prompt = PromptTemplate(\n",
    "    input_variables=[\"solutions\"],\n",
    "    template = template                      \n",
    ")\n",
    "\n",
    "chain2 = LLMChain(\n",
    "    llm=ChatOpenAI(temperature=0, model=\"gpt-4\"),\n",
    "    prompt=prompt,\n",
    "    output_key=\"review\"\n",
    ")\n",
    "\n",
    "template =\"\"\"\n",
    "Step 3:\n",
    "\n",
    "For each solution, deepen the thought process. Generate potential scenarios, strategies for implementation, any necessary partnerships or resources, and how potential obstacles might be overcome. Also, consider any potential unexpected outcomes and how they might be handled.\n",
    "\n",
    "{review}\n",
    "\n",
    "A:\"\"\"\n",
    "\n",
    "prompt = PromptTemplate(\n",
    "    input_variables=[\"review\"],\n",
    "    template = template                      \n",
    ")\n",
    "\n",
    "chain3 = LLMChain(\n",
    "    llm=ChatOpenAI(temperature=0, model=\"gpt-4\"),\n",
    "    prompt=prompt,\n",
    "    output_key=\"deepen_thought_process\"\n",
    ")\n",
    "\n",
    "template =\"\"\"\n",
    "Step 4:\n",
    "\n",
    "Based on the evaluations and scenarios, rank the solutions in order of promise. Provide a justification for each ranking and offer any final thoughts or considerations for each solution\n",
    "{deepen_thought_process}\n",
    "\n",
    "A:\"\"\"\n",
    "\n",
    "prompt = PromptTemplate(\n",
    "    input_variables=[\"deepen_thought_process\"],\n",
    "    template = template                      \n",
    ")\n",
    "\n",
    "chain4 = LLMChain(\n",
    "    llm=ChatOpenAI(temperature=0, model=\"gpt-4\"),\n",
    "    prompt=prompt,\n",
    "    output_key=\"ranked_solutions\"\n",
    ")"
   ]
  },
  {
   "cell_type": "code",
   "execution_count": 2,
   "metadata": {},
   "outputs": [
    {
     "name": "stderr",
     "output_type": "stream",
     "text": [
      "C:\\Users\\Mohammed Ammar\\AppData\\Local\\Temp\\ipykernel_11116\\4098094674.py:10: LangChainDeprecationWarning: The method `Chain.__call__` was deprecated in langchain 0.1.0 and will be removed in 1.0. Use :meth:`~invoke` instead.\n",
      "  print(overall_chain({\"input\":\"human colonization of Mars\", \"perfect_factors\":\"The distance between Earth and Mars is very large, making regular resupply difficult\"}))\n"
     ]
    },
    {
     "name": "stdout",
     "output_type": "stream",
     "text": [
      "\n",
      "\n",
      "\u001b[1m> Entering new SequentialChain chain...\u001b[0m\n",
      "\n",
      "\u001b[1m> Finished chain.\u001b[0m\n",
      "{'input': 'human colonization of Mars', 'perfect_factors': 'The distance between Earth and Mars is very large, making regular resupply difficult', 'ranked_solutions': 'Ranking: 1\\n\\nJustification: This solution has a high probability of success and a high confidence level. The initial effort and implementation difficulty are both medium, which is manageable. The expected outcomes are also very promising, with the potential for a diverse and dynamic colony. The potential challenges are significant but not insurmountable, and careful management could mitigate these risks.\\n\\nFinal Thoughts: This solution would require a strong regulatory framework and careful oversight to ensure that the interests of the colony are protected. It would also be important to ensure that the partnership is mutually beneficial, with private companies contributing to the development of the colony in exchange for the opportunity to conduct business there.\\n\\nSelf-Sustaining Colony:\\n\\nPros: This solution would make the colony independent and resilient, reducing its reliance on Earth for resources.\\n\\nCons: This would require significant technological development and could take a long time to achieve.\\n\\nInitial Effort: High. This would require significant research and development, as well as the construction of infrastructure.\\n\\nImplementation Difficulty: High. This would involve significant technical challenges, as well as the need to create a sustainable economy and society.\\n\\nPotential Challenges: The technical challenges of creating a self-sustaining colony, the need to create a sustainable economy, and the risk of isolation from Earth.\\n\\nExpected Outcomes: If successful, this could lead to a fully independent and self-sustaining colony.\\n\\nProbability of Success: Medium.\\n\\nConfidence Level: 60%.\\n\\nB:\\n\\nRanking: 2\\n\\nJustification: This solution has a medium probability of success and a lower confidence level than the first solution. The initial effort and implementation difficulty are both high, which could be a significant barrier. However, the expected outcomes are very promising, with the potential for a fully independent and self-sustaining colony.\\n\\nFinal Thoughts: This solution would require significant investment in research and development, as well as a long-term commitment to the project. It would also require careful planning to ensure that the colony remains connected to Earth, both physically and socially.'}\n"
     ]
    }
   ],
   "source": [
    "from langchain.chains import SequentialChain\n",
    "\n",
    "overall_chain = SequentialChain(\n",
    "    chains=[chain1, chain2, chain3, chain4],\n",
    "    input_variables=[\"input\", \"perfect_factors\"],\n",
    "    output_variables=[\"ranked_solutions\"],\n",
    "    verbose=True\n",
    ")\n",
    "\n",
    "print(overall_chain({\"input\":\"human colonization of Mars\", \"perfect_factors\":\"The distance between Earth and Mars is very large, making regular resupply difficult\"}))"
   ]
  },
  {
   "cell_type": "markdown",
   "metadata": {},
   "source": [
    "{'input': 'human colonization of Mars', 'perfect_factors': 'The distance between Earth and Mars is very large, making regular resupply difficult', 'ranked_solutions': 'Ranking: 1\\n\\nJustification: This solution has a high probability of success and a high confidence level. The initial effort and implementation difficulty are both medium, which is manageable. The expected outcomes are also very promising, with the potential for a diverse and dynamic colony. The potential challenges are significant but not insurmountable, and careful management could mitigate these risks.\\n\\nFinal Thoughts: This solution would require a strong regulatory framework and careful oversight to ensure that the interests of the colony are protected. It would also be important to ensure that the partnership is mutually beneficial, with private companies contributing to the development of the colony in exchange for the opportunity to conduct business there.\\n\\nSelf-Sustaining Colony:\\n\\nPros: This solution would make the colony independent and resilient, reducing its reliance on Earth for resources.\\n\\nCons: This would require significant technological development and could take a long time to achieve.\\n\\nInitial Effort: High. This would require significant research and development, as well as the construction of infrastructure.\\n\\nImplementation Difficulty: High. This would involve significant technical challenges, as well as the need to create a sustainable economy and society.\\n\\nPotential Challenges: The technical challenges of creating a self-sustaining colony, the need to create a sustainable economy, and the risk of isolation from Earth.\\n\\nExpected Outcomes: If successful, this could lead to a fully independent and self-sustaining colony.\\n\\nProbability of Success: Medium.\\n\\nConfidence Level: 60%.\\n\\nB:\\n\\nRanking: 2\\n\\nJustification: This solution has a medium probability of success and a lower confidence level than the first solution. The initial effort and implementation difficulty are both high, which could be a significant barrier. However, the expected outcomes are very promising, with the potential for a fully independent and self-sustaining colony.\\n\\nFinal Thoughts: This solution would require significant investment in research and development, as well as a long-term commitment to the project. It would also require careful planning to ensure that the colony remains connected to Earth, both physically and socially.'}\n",
    "\n",
    "\n",
    "\n",
    "\n",
    "\n",
    "C:\\Use"
   ]
  },
  {
   "cell_type": "markdown",
   "metadata": {},
   "source": [
    "### Another Example(Software Engineering)"
   ]
  },
  {
   "cell_type": "code",
   "execution_count": 136,
   "metadata": {},
   "outputs": [],
   "source": [
    "from langchain.chains import LLMChain\n",
    "from langchain.llms import OpenAI\n",
    "from langchain.prompts import PromptTemplate\n",
    "from langchain.chat_models import ChatOpenAI\n",
    "\n",
    "# Step 1: Problem Analysis and Requirements Gathering\n",
    "template = \"\"\"\n",
    "Step 1:\n",
    "\n",
    "You are given a software engineering problem related to {input}. Your task is to brainstorm three distinct approaches to address this problem. Please consider factors such as scalability, maintainability, user experience, and technical feasibility.\n",
    "\n",
    "A:\"\"\"\n",
    "\n",
    "prompt = PromptTemplate(\n",
    "    input_variables=[\"input\"],\n",
    "    template=template                      \n",
    ")\n",
    "\n",
    "chain1 = LLMChain(\n",
    "    llm=ChatOpenAI(temperature=0, model=\"gpt-4\"),\n",
    "    prompt=prompt,\n",
    "    output_key=\"approaches\"\n",
    ")\n",
    "\n",
    "# Step 2: Evaluate Approaches\n",
    "template = \"\"\"\n",
    "Step 2:\n",
    "\n",
    "For each of the three proposed approaches, evaluate their potential. Consider their pros and cons, technical complexity, required resources, and potential challenges. Assign a confidence score (out of 100) to each approach based on its viability and effectiveness.\n",
    "\n",
    "{approaches}\n",
    "\n",
    "A:\"\"\"\n",
    "\n",
    "prompt = PromptTemplate(\n",
    "    input_variables=[\"approaches\"],\n",
    "    template=template                      \n",
    ")\n",
    "\n",
    "chain2 = LLMChain(\n",
    "    llm=ChatOpenAI(temperature=0, model=\"gpt-4\"),\n",
    "    prompt=prompt,\n",
    "    output_key=\"evaluation\"\n",
    ")\n",
    "\n",
    "# Step 3: Detailing the Implementation Strategy\n",
    "template = \"\"\"\n",
    "Step 3:\n",
    "\n",
    "For each approach, provide a detailed implementation plan. Include the following:\n",
    "- High-level architecture or design\n",
    "- Key technologies or frameworks\n",
    "- Milestones and deliverables\n",
    "- Risk assessment and mitigation strategies\n",
    "\n",
    "{evaluation}\n",
    "\n",
    "A:\"\"\"\n",
    "\n",
    "prompt = PromptTemplate(\n",
    "    input_variables=[\"evaluation\"],\n",
    "    template=template                      \n",
    ")\n",
    "\n",
    "chain3 = LLMChain(\n",
    "    llm=ChatOpenAI(temperature=0, model=\"gpt-4\"),\n",
    "    prompt=prompt,\n",
    "    output_key=\"implementation_strategy\"\n",
    ")\n",
    "\n",
    "# Step 4: Ranking and Final Recommendations\n",
    "template = \"\"\"\n",
    "Step 4:\n",
    "\n",
    "Based on the evaluations and implementation strategies, rank the solutions in order of promise. Provide a justification for each ranking and offer any final thoughts or considerations for each solution.\n",
    "{implementation_strategy}\n",
    "\n",
    "A:\"\"\"\n",
    "\n",
    "prompt = PromptTemplate(\n",
    "    input_variables=[\"implementation_strategy\"],\n",
    "    template=template                      \n",
    ")\n",
    "\n",
    "chain4 = LLMChain(\n",
    "    llm=ChatOpenAI(temperature=0, model=\"gpt-4\"),\n",
    "    prompt=prompt,\n",
    "    output_key=\"ranked_solutions\"\n",
    ")\n"
   ]
  },
  {
   "cell_type": "code",
   "execution_count": 137,
   "metadata": {},
   "outputs": [
    {
     "name": "stdout",
     "output_type": "stream",
     "text": [
      "\n",
      "\n",
      "\u001b[1m> Entering new SequentialChain chain...\u001b[0m\n",
      "\n",
      "\u001b[1m> Finished chain.\u001b[0m\n",
      "{'input': 'Designing an e-commerce website', 'perfect_factors': 'Ensure scalability for handling thousands of users, a user-friendly interface for smooth shopping, and secure payment processing.', 'ranked_solutions': \"Monolithic Architecture Implementation Plan: Rank 3\\n\\nJustification: While the monolithic architecture is simpler to develop and deploy, it lacks the flexibility and scalability of the other two architectures. Changes to one part of the system can impact the entire application, making it more difficult to maintain and update. Additionally, it may not be able to handle large amounts of traffic as effectively as the other architectures.\\n\\nB: Microservices Architecture Implementation Plan: Rank 1\\n\\nJustification: The microservices architecture offers the greatest flexibility and scalability. It allows for independent development and deployment of services, making it easier to update and maintain. It also handles large amounts of traffic effectively. However, it is more complex to develop and requires careful coordination of services.\\n\\nC: Serverless Architecture Implementation Plan: Rank 2\\n\\nJustification: The serverless architecture offers scalability and the ability to pay only for the compute time you consume. However, it can lead to vendor lock-in, and there may be latency issues for certain types of applications. Debugging and monitoring can also be more challenging in a serverless architecture.\\n\\nFinal Thoughts: The choice of architecture depends on the specific needs and constraints of the project. While the microservices architecture is ranked first, it may not be the best choice for a small, simple application. Similarly, the serverless architecture may be the best choice for an application that needs to scale quickly and doesn't require long-running processes. The monolithic architecture, while ranked last, may still be the best choice for certain types of applications.\"}\n"
     ]
    }
   ],
   "source": [
    "from langchain.chains import SequentialChain\n",
    "\n",
    "\n",
    "\n",
    "\n",
    "# Define the SequentialChain\n",
    "overall_chain = SequentialChain(\n",
    "    chains=[chain1, chain2, chain3, chain4],\n",
    "    input_variables=[\"input\", \"perfect_factors\"],\n",
    "    output_variables=[\"ranked_solutions\"],\n",
    "    verbose=True\n",
    ")\n",
    "\n",
    "\n",
    "print(overall_chain({\"input\":\"Designing an e-commerce website\", \"perfect_factors\":\"Ensure scalability for handling thousands of users, a user-friendly interface for smooth shopping, and secure payment processing.\"}))"
   ]
  },
  {
   "cell_type": "markdown",
   "metadata": {},
   "source": [
    "'input': 'Designing an e-commerce website', 'perfect_factors': 'Ensure scalability for handling thousands of users, a user-friendly interface for smooth shopping, and secure payment processing.', 'ranked_solutions': \"Ranking:<br><br>1. Microservices Architecture Implementation Plan<br>2. Serverless Architecture Implementation Plan<br>3. Monolithic Architecture Implementation Plan<br><br>Justification:<br><br>1. Microservices Architecture Implementation Plan: This solution is ranked first due to its scalability and flexibility. It allows for the development of individual services that can be updated, deployed, and scaled independently. This can lead to faster development cycles and easier maintenance. However, it requires careful planning and management to avoid complexity.<br><br>2. Serverless Architecture Implementation Plan: This solution is ranked second due to its scalability and cost-effectiveness. It eliminates the need for server management, allowing developers to focus on the application logic. However, it may lead to vendor lock-in and has limitations in terms of control over server-side operations.<br><br>3. Monolithic Architecture Implementation Plan: This solution is ranked last due to its potential scalability issues. While it is simpler to develop and deploy, it can become complex and difficult to manage as the application grows. It also lacks the flexibility of the other two solutions in terms of independent deployment and scaling of individual components.<br><br>Final Thoughts:<br><br>Each solution has its own strengths and weaknesses, and the choice between them should be based on the specific requirements and constraints of the project. For a small, simple application, a monolithic architecture might be sufficient. However, for a large, complex application with high scalability requirements, a microservices or serverless architecture would be more suitable. It's also important to consider the team's expertise and the available resources when choosing an architecture.\"}"
   ]
  },
  {
   "cell_type": "code",
   "execution_count": null,
   "metadata": {},
   "outputs": [],
   "source": []
  }
 ],
 "metadata": {
  "kernelspec": {
   "display_name": "Python 3",
   "language": "python",
   "name": "python3"
  },
  "language_info": {
   "codemirror_mode": {
    "name": "ipython",
    "version": 3
   },
   "file_extension": ".py",
   "mimetype": "text/x-python",
   "name": "python",
   "nbconvert_exporter": "python",
   "pygments_lexer": "ipython3",
   "version": "3.10.7"
  }
 },
 "nbformat": 4,
 "nbformat_minor": 2
}
