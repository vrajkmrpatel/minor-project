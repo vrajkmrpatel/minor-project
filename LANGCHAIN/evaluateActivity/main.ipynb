{
 "cells": [
  {
   "cell_type": "code",
   "execution_count": null,
   "id": "f25639e6",
   "metadata": {},
   "outputs": [],
   "source": [
    "%pip install google-generativeai langchain langchain_google_genai"
   ]
  },
  {
   "cell_type": "code",
   "execution_count": null,
   "id": "0b92f870",
   "metadata": {},
   "outputs": [],
   "source": [
    "from dotenv import load_dotenv\n",
    "\n",
    "# Load API key from .env file\n",
    "load_dotenv()"
   ]
  },
  {
   "cell_type": "code",
   "execution_count": null,
   "id": "b883f530",
   "metadata": {},
   "outputs": [],
   "source": [
    "import os\n",
    "import json\n",
    "import re\n",
    "import google.generativeai as genai\n",
    "\n",
    "# Step 1: Setup Gemini API\n",
    "genai.configure(api_key=os.environ[\"GEMINI_API_KEY\"])"
   ]
  },
  {
   "cell_type": "code",
   "execution_count": null,
   "id": "f0629a0f",
   "metadata": {},
   "outputs": [],
   "source": [
    "problem_statement = \"\"\"A mail-order company wants to automate its order\n",
    "processing. The initial version of the order processing system should be accessible to customers\n",
    "via the web. Customers can also call the company by phone and interact with the system via a\n",
    "customer representative. It is highly likely that the company will enhance this system in upcoming\n",
    "years with new features.\n",
    "The system allows customers to place orders, check the status of their orders, cancel an existing\n",
    "order, and request a catalog. Customers may also return a product, but this is only possible through\n",
    "the phone, not available on the web. When placing an order, the customer identifies himself either\n",
    "by means of a customer number (for existing registered customers) or by providing his name and\n",
    "address. He then selects a number of products by giving the product number or by selecting\n",
    "products from the online catalog. For each product, information such as price, a description, and\n",
    "a picture (only on demand as they are usually high-resolution images of large size) is presented to\n",
    "the customer. Also, the availability of the product is obtained from the inventory. The customer\n",
    "indicates whether he wants to buy the product and in what quantity. When all desired products\n",
    "have been selected, the customer provides a shipping address and a credit card number and a\n",
    "billing address (if different from the shipping address). Then an overview of the ordered products\n",
    "and the total cost are presented. If the customer approves, the order is submitted. Credit card\n",
    "number, billing address, and a specification of the cost of the order are used on the invoice, which\n",
    "is forwarded to the accounting system (an existing software module). Orders are forwarded to the\n",
    "shipping company, where they are filled and shipped.\n",
    "Customers who spent over a certain amount within the past year are promoted to be gold cus-\n",
    "tomers. Gold customers have additional rights such as being able to return products in an extended\n",
    "time period as well as earning more bonus points with each purchase. In addition, in cases where\n",
    "a product is on back order, gold customers have the option to sign up for an email notification\n",
    "for when the particular product becomes available.\"\"\""
   ]
  },
  {
   "cell_type": "markdown",
   "id": "8768f11a",
   "metadata": {},
   "source": []
  },
  {
   "cell_type": "code",
   "execution_count": null,
   "id": "8cc04836",
   "metadata": {},
   "outputs": [],
   "source": []
  },
  {
   "cell_type": "code",
   "execution_count": null,
   "id": "dc87f1a9",
   "metadata": {},
   "outputs": [],
   "source": []
  },
  {
   "cell_type": "code",
   "execution_count": null,
   "id": "b6823b80",
   "metadata": {},
   "outputs": [],
   "source": []
  },
  {
   "cell_type": "code",
   "execution_count": null,
   "id": "737ad331",
   "metadata": {},
   "outputs": [],
   "source": []
  },
  {
   "cell_type": "code",
   "execution_count": null,
   "id": "27998419",
   "metadata": {},
   "outputs": [],
   "source": []
  },
  {
   "cell_type": "code",
   "execution_count": null,
   "id": "68cfb6ea",
   "metadata": {},
   "outputs": [],
   "source": []
  },
  {
   "cell_type": "code",
   "execution_count": null,
   "id": "c6eea4c1",
   "metadata": {},
   "outputs": [],
   "source": []
  },
  {
   "cell_type": "code",
   "execution_count": null,
   "id": "424c2c80",
   "metadata": {},
   "outputs": [],
   "source": []
  }
 ],
 "metadata": {
  "language_info": {
   "name": "python"
  }
 },
 "nbformat": 4,
 "nbformat_minor": 5
}
