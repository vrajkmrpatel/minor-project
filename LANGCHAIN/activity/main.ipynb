{
 "cells": [
  {
   "cell_type": "code",
   "execution_count": null,
   "metadata": {},
   "outputs": [],
   "source": [
    "%pip install langchain openai chromadb faiss-cpu tiktoken pypdf\n"
   ]
  },
  {
   "cell_type": "code",
   "execution_count": 4,
   "metadata": {},
   "outputs": [],
   "source": [
    "import os                                                                                                                                                                                                                                                                                                                                                                              \n",
    "from langchain_openai import ChatOpenAI  \n",
    "from langchain_core.prompts import PromptTemplate  \n",
    "from langchain.chains import LLMChain"
   ]
  },
  {
   "cell_type": "code",
   "execution_count": 5,
   "metadata": {},
   "outputs": [],
   "source": [
    "import os\n",
    "from dotenv import load_dotenv\n",
    "\n",
    "load_dotenv()\n",
    "OPENAI_API_KEY = os.getenv(\"OPENAI_API_KEY\")\n",
    "os.environ[\"OPENAI_API_KEY\"] = OPENAI_API_KEY"
   ]
  },
  {
   "cell_type": "code",
   "execution_count": null,
   "metadata": {},
   "outputs": [
    {
     "name": "stderr",
     "output_type": "stream",
     "text": [
      "C:\\Users\\admin\\AppData\\Local\\Temp\\ipykernel_19656\\319638242.py:19: LangChainDeprecationWarning: The class `OpenAIEmbeddings` was deprecated in LangChain 0.0.9 and will be removed in 1.0. An updated version of the class exists in the :class:`~langchain-openai package and should be used instead. To use it run `pip install -U :class:`~langchain-openai` and import as `from :class:`~langchain_openai import OpenAIEmbeddings``.\n",
      "  embeddings = OpenAIEmbeddings()\n"
     ]
    }
   ],
   "source": [
    "from langchain.embeddings.openai import OpenAIEmbeddings\n",
    "from langchain.vectorstores import FAISS\n",
    "from langchain.text_splitter import RecursiveCharacterTextSplitter\n",
    "from langchain.document_loaders import TextLoader\n",
    "from langchain.document_loaders import PyPDFLoader\n",
    "\n",
    "# Load the PDF file\n",
    "pdf_path = \"domain_knowledge.pdf\"  # Replace with your actual file path\n",
    "loader = PyPDFLoader(pdf_path)\n",
    "\n",
    "# Extract pages\n",
    "documents = loader.load()\n",
    "\n",
    "\n",
    "text_splitter = RecursiveCharacterTextSplitter(chunk_size=500, chunk_overlap=50)\n",
    "chunks = text_splitter.split_documents(documents)\n",
    "\n",
    "# Generate embeddings\n",
    "embeddings = OpenAIEmbeddings()\n",
    "vectorstore = FAISS.from_documents(chunks, embeddings)\n",
    "vectorstore.save_local(\"faiss_index\")  # Saves for later retrieval"
   ]
  },
  {
   "cell_type": "code",
   "execution_count": 9,
   "metadata": {},
   "outputs": [],
   "source": [
    "from langchain.chains import RetrievalQA\n",
    "from langchain.chat_models import ChatOpenAI\n",
    "\n",
    "# Load the FAISS index\n",
    "# vectorstore = FAISS.load_local(\"faiss_index\", embeddings)\n",
    "vectorstore = FAISS.load_local(\"faiss_index\", embeddings, allow_dangerous_deserialization=True)\n",
    "\n",
    "retriever = vectorstore.as_retriever(search_type=\"similarity\", search_kwargs={\"k\": 3})  # Retrieve top 3 relevant chunks\n",
    "\n",
    "llm = ChatOpenAI(model_name=\"gpt-4\", temperature=0.7)\n",
    "\n",
    "rag_chain = RetrievalQA.from_chain_type(\n",
    "    llm=llm,\n",
    "    chain_type=\"stuff\",  # This handles combining retrieved documents\n",
    "    retriever=retriever\n",
    ")"
   ]
  },
  {
   "cell_type": "code",
   "execution_count": 19,
   "metadata": {},
   "outputs": [],
   "source": [
    "problem_statement=\"\"\"Saturn Int. management wants to improve their security measures, both for their building and on site. They would like to prevent people who are not part of the company to use their car park.\n",
    "Saturn Int. has decided to issue identity cards to all employees. Each card records the name, department and number of a company staff, and give them access to the company car park. Employees are asked to wear the cards while on the site.\n",
    "\n",
    "There is a barrier and a card reader placed at the entrance to the car park. When a driver drives his car into the car park, he/she inserts his or her identity card into the card reader. The card reader then verify the card number to see if it is known to the system. If the number is recognized, the reader sends a signal to trigger the barrier to rise. The driver can then drive his/her car into the car park.\n",
    "\n",
    "There is another barrier at the exit of the car park, which is automatically raised when a car wishes to leave the car park.\n",
    "\n",
    "A sign at the entrance display “Full” when there are no spaces in the car park. It is only switched off when a car leaves.\n",
    "\n",
    "There is another type of card for guests, which also permits access to the car park. The card records a number and the current date. Such cards may be sent out in advance, or collected from reception. All guest cards must be returned to reception when the visitor leaves Saturn Int.\"\"\""
   ]
  },
  {
   "cell_type": "code",
   "execution_count": 20,
   "metadata": {},
   "outputs": [],
   "source": [
    "few_shot_examples = \"\"\"\n",
    "Example 1:\n",
    "Problem: \"An online store allows users to browse products, add them to cart, and checkout.\"\n",
    "Activity Diagram:\n",
    "1. Start\n",
    "2. User selects product\n",
    "3. Add to cart\n",
    "4. Proceed to checkout\n",
    "5. Payment processing\n",
    "6. Order confirmation\n",
    "7. End\n",
    "\n",
    "Example 2:\n",
    "Problem: \"A user logs into a banking app and transfers funds.\"\n",
    "Activity Diagram:\n",
    "1. Start\n",
    "2. Enter credentials\n",
    "3. Validate login\n",
    "4. Navigate to transfer funds\n",
    "5. Enter recipient and amount\n",
    "6. Confirm transaction\n",
    "7. End\n",
    "\"\"\""
   ]
  },
  {
   "cell_type": "code",
   "execution_count": 21,
   "metadata": {},
   "outputs": [],
   "source": [
    "def generate_activity_diagram(problem_statement):\n",
    "    # Retrieve domain knowledge\n",
    "    context = rag_chain.run(problem_statement)\n",
    "\n",
    "    # Construct the final prompt\n",
    "    prompt = f\"\"\"\n",
    "    You are an expert in UML diagrams. Your task is to generate an activity diagram for the given problem.\n",
    "\n",
    "    Context: {context}\n",
    "\n",
    "    Here are some examples:\n",
    "    {few_shot_examples}\n",
    "\n",
    "    Now, generate an activity diagram for the following problem:\n",
    "    Problem: \"{problem_statement}\"\n",
    "    Activity Diagram:\n",
    "    \"\"\"\n",
    "    return prompt\n"
   ]
  },
  {
   "cell_type": "code",
   "execution_count": 22,
   "metadata": {},
   "outputs": [
    {
     "name": "stdout",
     "output_type": "stream",
     "text": [
      "1. Start\n",
      "2. Issue identity cards to employees / guest\n",
      "3. Employee/Guest drives to car park entrance\n",
      "4. Insert identity card into card reader\n",
      "5. Verify card number\n",
      "6. If card number recognized, trigger barrier to rise\n",
      "7. If car park is not full, drive car into car park\n",
      "8. If car park is full, display \"Full\" sign\n",
      "9. When leaving, drive to car park exit\n",
      "10. Exit barrier automatically raises\n",
      "11. If card belongs to guest, return card to reception\n",
      "12. End\n"
     ]
    }
   ],
   "source": [
    "def get_activity_diagram(problem_statement):\n",
    "    prompt = generate_activity_diagram(problem_statement)\n",
    "    response = llm.predict(prompt)\n",
    "    return response\n",
    "\n",
    "# Example usage\n",
    "problem = problem_statement\n",
    "activity_diagram = get_activity_diagram(problem)\n",
    "print(activity_diagram)"
   ]
  },
  {
   "cell_type": "code",
   "execution_count": 23,
   "metadata": {},
   "outputs": [
    {
     "name": "stdout",
     "output_type": "stream",
     "text": [
      "@startuml\n",
      "start\n",
      ":1. Start;\n",
      ":2. Issue identity cards to employees / guest;\n",
      ":3. Employee/Guest drives to car park entrance;\n",
      ":4. Insert identity card into card reader;\n",
      ":5. Verify card number;\n",
      ":6. If card number recognized, trigger barrier to rise;\n",
      ":7. If car park is not full, drive car into car park;\n",
      ":8. If car park is full, display \"Full\" sign;\n",
      ":9. When leaving, drive to car park exit;\n",
      ":10. Exit barrier automatically raises;\n",
      ":11. If card belongs to guest, return card to reception;\n",
      "stop\n",
      "@enduml\n"
     ]
    }
   ],
   "source": [
    "def format_to_plantuml(activity_diagram_text):\n",
    "    plantuml_code = \"@startuml\\nstart\\n\"\n",
    "\n",
    "    steps = activity_diagram_text.split(\"\\n\")\n",
    "    for step in steps:\n",
    "        if \"End\" in step:\n",
    "            plantuml_code += \"stop\\n\"\n",
    "        else:\n",
    "            plantuml_code += f\":{step.strip()};\\n\"\n",
    "\n",
    "    plantuml_code += \"@enduml\"\n",
    "    return plantuml_code\n",
    "\n",
    "# Example\n",
    "plantuml_code = format_to_plantuml(activity_diagram)\n",
    "print(plantuml_code)\n"
   ]
  }
 ],
 "metadata": {
  "kernelspec": {
   "display_name": "Python 3",
   "language": "python",
   "name": "python3"
  },
  "language_info": {
   "codemirror_mode": {
    "name": "ipython",
    "version": 3
   },
   "file_extension": ".py",
   "mimetype": "text/x-python",
   "name": "python",
   "nbconvert_exporter": "python",
   "pygments_lexer": "ipython3",
   "version": "3.10.7"
  }
 },
 "nbformat": 4,
 "nbformat_minor": 2
}
