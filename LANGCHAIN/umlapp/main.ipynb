{
 "cells": [
  {
   "cell_type": "markdown",
   "metadata": {},
   "source": [
    "## USE CASE GENERATION USING LLM"
   ]
  },
  {
   "cell_type": "markdown",
   "metadata": {},
   "source": [
    "### Approach"
   ]
  },
  {
   "cell_type": "markdown",
   "metadata": {},
   "source": [
    "\n",
    "                    text ip          use case          plantUML script\n",
    "Problem statement -----------> LLM ------------> LLM ---------------------> plantUML -----> Usecase Diagram\n",
    "                     fewshot           desc\n",
    "                     cot"
   ]
  },
  {
   "cell_type": "code",
   "execution_count": 2,
   "metadata": {},
   "outputs": [],
   "source": [
    "import os\n",
    "from langchain_openai import ChatOpenAI  # OpenAI integration\n",
    "from langchain_core.prompts import PromptTemplate  # Core prompt handling \n",
    "from langchain.chains import LLMChain"
   ]
  },
  {
   "cell_type": "code",
   "execution_count": 3,
   "metadata": {},
   "outputs": [],
   "source": [
    "import os\n",
    "from dotenv import load_dotenv\n",
    "\n",
    "load_dotenv()\n",
    "OPENAI_API_KEY = os.getenv(\"OPENAI_API_KEY\")\n",
    "os.environ[\"OPENAI_API_KEY\"] = OPENAI_API_KEY"
   ]
  },
  {
   "cell_type": "markdown",
   "metadata": {},
   "source": [
    "### PROBLEM STATEMENT"
   ]
  },
  {
   "cell_type": "code",
   "execution_count": 4,
   "metadata": {},
   "outputs": [],
   "source": [
    "problem_statement = \"\"\"\n",
    "E- Post Office System is the shopping portal of the world renowned postal service on the internet. It sells\n",
    "Stamps, Postcards, Packets, Cartons, and also has services like courier, registering for electricity vendors,\n",
    "selling mobile cards, etc. Under this website many products and services can be ordered, that are also\n",
    "available in a \"normal\" branch. The product prices are identical with the prices of their normal branches.\n",
    "The system can serve many customers at a time. Each customer will be required to register on the portal\n",
    "and should login into the system. The customer will then be able to browse the products and services\n",
    "available. The customer will choose one or more products/services and will place an order for the selected\n",
    "items. The customer must provide the account details for the payment. After verifying the payment\n",
    "details, the system will finalize the order and will send the acknowledgement i.e. order details and status)\n",
    "to the customer. The customer can view the order status at any time and can cancel the order before the\n",
    "shipping has started.\n",
    "\"\"\""
   ]
  },
  {
   "cell_type": "markdown",
   "metadata": {},
   "source": [
    "### FEW SHOT EXAMPLE"
   ]
  },
  {
   "cell_type": "code",
   "execution_count": 5,
   "metadata": {},
   "outputs": [],
   "source": [
    "few_shot_prompt = PromptTemplate(\n",
    "    input_variables=[\"problem_statement\"],\n",
    "    template=\"\"\"\n",
    "Assume you are a software engineer developing structured use case models for a System.\n",
    "Follow these structured rules while generating use cases:\n",
    "\n",
    "1. Use Case Naming:  \n",
    "   - Use an action verb followed by a qualified object (e.g., \"Request Ticket\", \"Process Payment\").  \n",
    "   - Avoid vague verbs (e.g., \"do\", \"process\") and database-related terms (CRUD operations).  \n",
    "\n",
    "2. Actors Identification:  \n",
    "   - Primary Actor: The entity that initiates the interaction.  \n",
    "   - Secondary Actors: Supporting entities involved in the process.  \n",
    "\n",
    "3. Use Case Structure:  \n",
    "   - Preconditions: The necessary conditions before execution.  \n",
    "   - Main Flow: Clearly sequential interactions, using **subject-verb-object** structure.  \n",
    "   - Alternative Flow: Document possible variations and edge cases.  \n",
    "   - Exception Handling: Define failure scenarios and recovery strategies.  \n",
    "   - Postconditions: Expected outcome after successful execution.  \n",
    "\n",
    "4. Language & Formatting: \n",
    "   - Use active voice and declarative sentences.  \n",
    "   - Avoid negations (e.g., \"not\", \"never\") unless required.  \n",
    "   - Use present tense and maintain consistency.  \n",
    "   - No GUI elements should be mentioned.  \n",
    "   - Avoid actor-to-actor interactions (all interactions must go through the system).  \n",
    "\n",
    "## FEW-SHOT EXAMPLES ##\n",
    "### Example Use Case ###\n",
    "Use Case Name: Request Airline Ticket\n",
    "Primary Actor: Clerk  \n",
    "Secondary Actors: Payment Gateway, Airline Reservation System  \n",
    "Preconditions:  \n",
    "1. The Clerk must be authenticated in the system.  \n",
    "2. The airline must have available flights for booking.  \n",
    "\n",
    "Main Flow:\n",
    "1. Clerk selects a flight from the available list.  \n",
    "2. System retrieves ticket details and prompts for passenger information.  \n",
    "3. Clerk enters passenger details and confirms ticket selection.  \n",
    "4. System validates the entered details.  \n",
    "5. Clerk submits payment request.  \n",
    "6. System forwards payment request to the Payment Gateway.  \n",
    "7. Payment Gateway authorizes the transaction and confirms the payment.  \n",
    "8. System generates the ticket and assigns a Passenger Name Record (PNR).  \n",
    "9. System updates the airline reservation system with booking details.  \n",
    "10. System notifies the Clerk of successful ticket booking.  \n",
    "\n",
    "Alternative Flow:  \n",
    "- If the payment fails, the system prompts the Clerk to retry or select another payment method.  \n",
    "- If no seats are available, the system suggests alternative flights.  \n",
    "\n",
    "Postconditions:  \n",
    "1. The airline ticket is successfully booked.  \n",
    "2. The passenger receives the ticket confirmation with PNR.  \n",
    "\n",
    "---\n",
    "\n",
    "Now generate a structured use case description based on the following problem statement:  \n",
    "{problem_statement}\n",
    "\"\"\"\n",
    ")\n"
   ]
  },
  {
   "cell_type": "code",
   "execution_count": 7,
   "metadata": {},
   "outputs": [],
   "source": [
    "llm = ChatOpenAI(model_name=\"gpt-4\", temperature=0.0)\n",
    "# use_case_chain = LLMChain(llm=llm, prompt=few_shot_prompt)\n",
    "chain = llm | few_shot_prompt"
   ]
  },
  {
   "cell_type": "code",
   "execution_count": 10,
   "metadata": {},
   "outputs": [
    {
     "name": "stdout",
     "output_type": "stream",
     "text": [
      "\n",
      "Generated Use Case:\n",
      "\n",
      "text='\\nAssume you are a software engineer developing structured use case models for a System.\\nFollow these structured rules while generating use cases:\\n\\n1. Use Case Naming:  \\n   - Use an action verb followed by a qualified object (e.g., \"Request Ticket\", \"Process Payment\").  \\n   - Avoid vague verbs (e.g., \"do\", \"process\") and database-related terms (CRUD operations).  \\n\\n2. Actors Identification:  \\n   - Primary Actor: The entity that initiates the interaction.  \\n   - Secondary Actors: Supporting entities involved in the process.  \\n\\n3. Use Case Structure:  \\n   - Preconditions: The necessary conditions before execution.  \\n   - Main Flow: Clearly sequential interactions, using **subject-verb-object** structure.  \\n   - Alternative Flow: Document possible variations and edge cases.  \\n   - Exception Handling: Define failure scenarios and recovery strategies.  \\n   - Postconditions: Expected outcome after successful execution.  \\n\\n4. Language & Formatting: \\n   - Use active voice and declarative sentences.  \\n   - Avoid negations (e.g., \"not\", \"never\") unless required.  \\n   - Use present tense and maintain consistency.  \\n   - No GUI elements should be mentioned.  \\n   - Avoid actor-to-actor interactions (all interactions must go through the system).  \\n\\n## FEW-SHOT EXAMPLES ##\\n### Example Use Case ###\\nUse Case Name: Request Airline Ticket\\nPrimary Actor: Clerk  \\nSecondary Actors: Payment Gateway, Airline Reservation System  \\nPreconditions:  \\n1. The Clerk must be authenticated in the system.  \\n2. The airline must have available flights for booking.  \\n\\nMain Flow:\\n1. Clerk selects a flight from the available list.  \\n2. System retrieves ticket details and prompts for passenger information.  \\n3. Clerk enters passenger details and confirms ticket selection.  \\n4. System validates the entered details.  \\n5. Clerk submits payment request.  \\n6. System forwards payment request to the Payment Gateway.  \\n7. Payment Gateway authorizes the transaction and confirms the payment.  \\n8. System generates the ticket and assigns a Passenger Name Record (PNR).  \\n9. System updates the airline reservation system with booking details.  \\n10. System notifies the Clerk of successful ticket booking.  \\n\\nAlternative Flow:  \\n- If the payment fails, the system prompts the Clerk to retry or select another payment method.  \\n- If no seats are available, the system suggests alternative flights.  \\n\\nPostconditions:  \\n1. The airline ticket is successfully booked.  \\n2. The passenger receives the ticket confirmation with PNR.  \\n\\n---\\n\\nNow generate a structured use case description based on the following problem statement:  \\ncontent=\\'The E-Post Office System is a comprehensive online platform that offers a wide range of products and services traditionally available at physical post office branches. This includes the sale of stamps, postcards, packets, and cartons. In addition, the system also offers services such as courier services, registration for electricity vendors, and the sale of mobile cards.\\\\n\\\\nThe system is designed to accommodate multiple customers simultaneously. To use the system, customers are required to register and log in to the portal. Once logged in, customers can browse through the available products and services. They can select one or more items and place an order.\\\\n\\\\nFor payment, customers are required to provide their account details. The system verifies these details and finalizes the order. An acknowledgement, which includes the order details and status, is then sent to the customer.\\\\n\\\\nCustomers have the ability to view their order status at any time. They also have the option to cancel their order, provided the shipping process has not yet commenced. The prices of products and services on the E-Post Office System are identical to those in physical branches, providing customers with a convenient and cost-effective alternative to visiting a physical post office.\\' additional_kwargs={\\'refusal\\': None} response_metadata={\\'token_usage\\': {\\'completion_tokens\\': 233, \\'prompt_tokens\\': 222, \\'total_tokens\\': 455, \\'completion_tokens_details\\': {\\'accepted_prediction_tokens\\': 0, \\'audio_tokens\\': 0, \\'reasoning_tokens\\': 0, \\'rejected_prediction_tokens\\': 0}, \\'prompt_tokens_details\\': {\\'audio_tokens\\': 0, \\'cached_tokens\\': 0}}, \\'model_name\\': \\'gpt-4-0613\\', \\'system_fingerprint\\': None, \\'finish_reason\\': \\'stop\\', \\'logprobs\\': None} id=\\'run-0a444b43-52e4-4875-a5a6-54667da24a3b-0\\' usage_metadata={\\'input_tokens\\': 222, \\'output_tokens\\': 233, \\'total_tokens\\': 455, \\'input_token_details\\': {\\'audio\\': 0, \\'cache_read\\': 0}, \\'output_token_details\\': {\\'audio\\': 0, \\'reasoning\\': 0}}\\n'\n"
     ]
    }
   ],
   "source": [
    "few_shot_output = chain.invoke(input=problem_statement)\n",
    "print(\"\\nGenerated Use Case:\\n\")\n",
    "print(few_shot_output)"
   ]
  },
  {
   "cell_type": "markdown",
   "metadata": {},
   "source": [
    "### CHAIN OF THOUGHT EXAMPLE"
   ]
  },
  {
   "cell_type": "code",
   "execution_count": null,
   "metadata": {},
   "outputs": [],
   "source": [
    "# use_case_cot_prompt = PromptTemplate(\n",
    "#     input_variables=[\"problem_statement\"],\n",
    "#     template=\"\"\"\n",
    "# Assume you are a software engineer developing an Airline Ticketing System.\n",
    "# To ensure correctness, follow these steps:\n",
    "\n",
    "# 1. Identify all the goals of the system.  \n",
    "#    Think carefully about what the system is trying to achieve and list all the goals.\n",
    "   \n",
    "# 2. For each goal, determine the primary actor (who initiates the action).  \n",
    "#    Think about who will trigger the action for each goal. It could be a customer, an admin, or a system.\n",
    "\n",
    "# 3. Identify any secondary actors involved.  \n",
    "#    These are entities that play a supporting role, such as systems or external services.\n",
    "\n",
    "# 4. Describe the interaction steps between actors and the system.  \n",
    "#    Detail the sequence of actions that take place to fulfill the goal.\n",
    "\n",
    "# 5. Mention exceptions and alternative flows.  \n",
    "#    Consider possible exceptions or edge cases where the flow might differ from the norm.\n",
    "\n",
    "# ### Example Use Case ###\n",
    "# Use Case: Order Ticket\n",
    "# Primary Actor: Clerk\n",
    "# Secondary Actors: Airline System, Payment Gateway\n",
    "# Preconditions: The Clerk must be logged into the system.\n",
    "\n",
    "# Steps:\n",
    "# 1. Clerk enters passenger details.\n",
    "# 2. Clerk selects the desired flight.\n",
    "# 3. Airline System checks availability.\n",
    "# 4. Clerk proceeds to booking.\n",
    "# 5. System confirms booking and moves to payment.\n",
    "# 6. Clerk enters payment details.\n",
    "# 7. Payment Gateway processes payment.\n",
    "# 8. Airline System confirms payment.\n",
    "# 9. System generates PNR.\n",
    "# 10. Confirmation message is sent to the Clerk or Customer.\n",
    "\n",
    "# Exceptions:\n",
    "# 1. If payment fails, prompt the Clerk to retry.\n",
    "# 2. If the flight is full, suggest alternative flights.\n",
    "# 3. If the PNR cannot be generated, notify the Clerk of the issue.\n",
    "\n",
    "# Now, apply the same reasoning step-by-step to generate a use cases for:\n",
    "# {problem_statement}\n",
    "# \"\"\"\n",
    "# )"
   ]
  },
  {
   "cell_type": "code",
   "execution_count": null,
   "metadata": {},
   "outputs": [],
   "source": [
    "# llm = ChatOpenAI(model_name=\"gpt-4\", temperature=0.5)\n",
    "# use_case_chain = LLMChain(llm=llm, prompt=use_case_cot_prompt)"
   ]
  },
  {
   "cell_type": "code",
   "execution_count": null,
   "metadata": {},
   "outputs": [],
   "source": [
    "# use_case_cot_output = use_case_chain.run(problem_statement=problem_statement)\n",
    "# print(\"\\nGenerated Use Cases:\\n\")\n",
    "# print(use_case_cot_output)"
   ]
  },
  {
   "cell_type": "code",
   "execution_count": null,
   "metadata": {},
   "outputs": [],
   "source": []
  },
  {
   "cell_type": "markdown",
   "metadata": {},
   "source": [
    "### Generate PlantUML Script Using LLM"
   ]
  },
  {
   "cell_type": "code",
   "execution_count": 13,
   "metadata": {},
   "outputs": [],
   "source": [
    "\n",
    "plantuml_prompt = PromptTemplate(\n",
    "    input_variables=[\"few_shot_output\"],\n",
    "    template=\"\"\"\n",
    "You are an expert in system modeling. Convert the given textual use case description into a valid **PlantUML script**.\n",
    "Ensure that:\n",
    "1. **Actors are properly defined** (Primary and Secondary).\n",
    "2️. **Use case relationships (extends, includes) are accurately represented**.\n",
    "3️. **Flows and dependencies between actors and use cases are logically structured**. \n",
    "\n",
    "---\n",
    "Now generate a **PlantUML script** for the following textual use case description:\n",
    "\n",
    "{few_shot_output}\n",
    "\"\"\"\n",
    ")\n"
   ]
  },
  {
   "cell_type": "code",
   "execution_count": 15,
   "metadata": {},
   "outputs": [
    {
     "ename": "ValueError",
     "evalue": "Missing some input keys: {'few_shot_output'}",
     "output_type": "error",
     "traceback": [
      "\u001b[1;31m---------------------------------------------------------------------------\u001b[0m",
      "\u001b[1;31mValueError\u001b[0m                                Traceback (most recent call last)",
      "Cell \u001b[1;32mIn[15], line 3\u001b[0m\n\u001b[0;32m      1\u001b[0m plantuml_chain \u001b[38;5;241m=\u001b[39m LLMChain(llm\u001b[38;5;241m=\u001b[39mllm, prompt\u001b[38;5;241m=\u001b[39mplantuml_prompt)\n\u001b[1;32m----> 3\u001b[0m use_case_description \u001b[38;5;241m=\u001b[39m \u001b[43muse_case_chain\u001b[49m\u001b[38;5;241;43m.\u001b[39;49m\u001b[43mrun\u001b[49m\u001b[43m(\u001b[49m\u001b[43muse_case_title\u001b[49m\u001b[38;5;241;43m=\u001b[39;49m\u001b[38;5;124;43m\"\u001b[39;49m\u001b[38;5;124;43mSchedule Appointment\u001b[39;49m\u001b[38;5;124;43m\"\u001b[39;49m\u001b[43m)\u001b[49m\n\u001b[0;32m      4\u001b[0m plantuml_output \u001b[38;5;241m=\u001b[39m plantuml_chain\u001b[38;5;241m.\u001b[39mrun(few_shot_output\u001b[38;5;241m=\u001b[39muse_case_description)\n",
      "File \u001b[1;32mc:\\Users\\admin\\AppData\\Local\\Programs\\Python\\Python310\\lib\\site-packages\\langchain_core\\_api\\deprecation.py:181\u001b[0m, in \u001b[0;36mdeprecated.<locals>.deprecate.<locals>.warning_emitting_wrapper\u001b[1;34m(*args, **kwargs)\u001b[0m\n\u001b[0;32m    179\u001b[0m     warned \u001b[38;5;241m=\u001b[39m \u001b[38;5;28;01mTrue\u001b[39;00m\n\u001b[0;32m    180\u001b[0m     emit_warning()\n\u001b[1;32m--> 181\u001b[0m \u001b[38;5;28;01mreturn\u001b[39;00m wrapped(\u001b[38;5;241m*\u001b[39margs, \u001b[38;5;241m*\u001b[39m\u001b[38;5;241m*\u001b[39mkwargs)\n",
      "File \u001b[1;32mc:\\Users\\admin\\AppData\\Local\\Programs\\Python\\Python310\\lib\\site-packages\\langchain\\chains\\base.py:611\u001b[0m, in \u001b[0;36mChain.run\u001b[1;34m(self, callbacks, tags, metadata, *args, **kwargs)\u001b[0m\n\u001b[0;32m    606\u001b[0m     \u001b[38;5;28;01mreturn\u001b[39;00m \u001b[38;5;28mself\u001b[39m(args[\u001b[38;5;241m0\u001b[39m], callbacks\u001b[38;5;241m=\u001b[39mcallbacks, tags\u001b[38;5;241m=\u001b[39mtags, metadata\u001b[38;5;241m=\u001b[39mmetadata)[\n\u001b[0;32m    607\u001b[0m         _output_key\n\u001b[0;32m    608\u001b[0m     ]\n\u001b[0;32m    610\u001b[0m \u001b[38;5;28;01mif\u001b[39;00m kwargs \u001b[38;5;129;01mand\u001b[39;00m \u001b[38;5;129;01mnot\u001b[39;00m args:\n\u001b[1;32m--> 611\u001b[0m     \u001b[38;5;28;01mreturn\u001b[39;00m \u001b[38;5;28;43mself\u001b[39;49m\u001b[43m(\u001b[49m\u001b[43mkwargs\u001b[49m\u001b[43m,\u001b[49m\u001b[43m \u001b[49m\u001b[43mcallbacks\u001b[49m\u001b[38;5;241;43m=\u001b[39;49m\u001b[43mcallbacks\u001b[49m\u001b[43m,\u001b[49m\u001b[43m \u001b[49m\u001b[43mtags\u001b[49m\u001b[38;5;241;43m=\u001b[39;49m\u001b[43mtags\u001b[49m\u001b[43m,\u001b[49m\u001b[43m \u001b[49m\u001b[43mmetadata\u001b[49m\u001b[38;5;241;43m=\u001b[39;49m\u001b[43mmetadata\u001b[49m\u001b[43m)\u001b[49m[\n\u001b[0;32m    612\u001b[0m         _output_key\n\u001b[0;32m    613\u001b[0m     ]\n\u001b[0;32m    615\u001b[0m \u001b[38;5;28;01mif\u001b[39;00m \u001b[38;5;129;01mnot\u001b[39;00m kwargs \u001b[38;5;129;01mand\u001b[39;00m \u001b[38;5;129;01mnot\u001b[39;00m args:\n\u001b[0;32m    616\u001b[0m     \u001b[38;5;28;01mraise\u001b[39;00m \u001b[38;5;167;01mValueError\u001b[39;00m(\n\u001b[0;32m    617\u001b[0m         \u001b[38;5;124m\"\u001b[39m\u001b[38;5;124m`run` supported with either positional arguments or keyword arguments,\u001b[39m\u001b[38;5;124m\"\u001b[39m\n\u001b[0;32m    618\u001b[0m         \u001b[38;5;124m\"\u001b[39m\u001b[38;5;124m but none were provided.\u001b[39m\u001b[38;5;124m\"\u001b[39m\n\u001b[0;32m    619\u001b[0m     )\n",
      "File \u001b[1;32mc:\\Users\\admin\\AppData\\Local\\Programs\\Python\\Python310\\lib\\site-packages\\langchain_core\\_api\\deprecation.py:181\u001b[0m, in \u001b[0;36mdeprecated.<locals>.deprecate.<locals>.warning_emitting_wrapper\u001b[1;34m(*args, **kwargs)\u001b[0m\n\u001b[0;32m    179\u001b[0m     warned \u001b[38;5;241m=\u001b[39m \u001b[38;5;28;01mTrue\u001b[39;00m\n\u001b[0;32m    180\u001b[0m     emit_warning()\n\u001b[1;32m--> 181\u001b[0m \u001b[38;5;28;01mreturn\u001b[39;00m wrapped(\u001b[38;5;241m*\u001b[39margs, \u001b[38;5;241m*\u001b[39m\u001b[38;5;241m*\u001b[39mkwargs)\n",
      "File \u001b[1;32mc:\\Users\\admin\\AppData\\Local\\Programs\\Python\\Python310\\lib\\site-packages\\langchain\\chains\\base.py:389\u001b[0m, in \u001b[0;36mChain.__call__\u001b[1;34m(self, inputs, return_only_outputs, callbacks, tags, metadata, run_name, include_run_info)\u001b[0m\n\u001b[0;32m    357\u001b[0m \u001b[38;5;250m\u001b[39m\u001b[38;5;124;03m\"\"\"Execute the chain.\u001b[39;00m\n\u001b[0;32m    358\u001b[0m \n\u001b[0;32m    359\u001b[0m \u001b[38;5;124;03mArgs:\u001b[39;00m\n\u001b[1;32m   (...)\u001b[0m\n\u001b[0;32m    380\u001b[0m \u001b[38;5;124;03m        `Chain.output_keys`.\u001b[39;00m\n\u001b[0;32m    381\u001b[0m \u001b[38;5;124;03m\"\"\"\u001b[39;00m\n\u001b[0;32m    382\u001b[0m config \u001b[38;5;241m=\u001b[39m {\n\u001b[0;32m    383\u001b[0m     \u001b[38;5;124m\"\u001b[39m\u001b[38;5;124mcallbacks\u001b[39m\u001b[38;5;124m\"\u001b[39m: callbacks,\n\u001b[0;32m    384\u001b[0m     \u001b[38;5;124m\"\u001b[39m\u001b[38;5;124mtags\u001b[39m\u001b[38;5;124m\"\u001b[39m: tags,\n\u001b[0;32m    385\u001b[0m     \u001b[38;5;124m\"\u001b[39m\u001b[38;5;124mmetadata\u001b[39m\u001b[38;5;124m\"\u001b[39m: metadata,\n\u001b[0;32m    386\u001b[0m     \u001b[38;5;124m\"\u001b[39m\u001b[38;5;124mrun_name\u001b[39m\u001b[38;5;124m\"\u001b[39m: run_name,\n\u001b[0;32m    387\u001b[0m }\n\u001b[1;32m--> 389\u001b[0m \u001b[38;5;28;01mreturn\u001b[39;00m \u001b[38;5;28;43mself\u001b[39;49m\u001b[38;5;241;43m.\u001b[39;49m\u001b[43minvoke\u001b[49m\u001b[43m(\u001b[49m\n\u001b[0;32m    390\u001b[0m \u001b[43m    \u001b[49m\u001b[43minputs\u001b[49m\u001b[43m,\u001b[49m\n\u001b[0;32m    391\u001b[0m \u001b[43m    \u001b[49m\u001b[43mcast\u001b[49m\u001b[43m(\u001b[49m\u001b[43mRunnableConfig\u001b[49m\u001b[43m,\u001b[49m\u001b[43m \u001b[49m\u001b[43m{\u001b[49m\u001b[43mk\u001b[49m\u001b[43m:\u001b[49m\u001b[43m \u001b[49m\u001b[43mv\u001b[49m\u001b[43m \u001b[49m\u001b[38;5;28;43;01mfor\u001b[39;49;00m\u001b[43m \u001b[49m\u001b[43mk\u001b[49m\u001b[43m,\u001b[49m\u001b[43m \u001b[49m\u001b[43mv\u001b[49m\u001b[43m \u001b[49m\u001b[38;5;129;43;01min\u001b[39;49;00m\u001b[43m \u001b[49m\u001b[43mconfig\u001b[49m\u001b[38;5;241;43m.\u001b[39;49m\u001b[43mitems\u001b[49m\u001b[43m(\u001b[49m\u001b[43m)\u001b[49m\u001b[43m \u001b[49m\u001b[38;5;28;43;01mif\u001b[39;49;00m\u001b[43m \u001b[49m\u001b[43mv\u001b[49m\u001b[43m \u001b[49m\u001b[38;5;129;43;01mis\u001b[39;49;00m\u001b[43m \u001b[49m\u001b[38;5;129;43;01mnot\u001b[39;49;00m\u001b[43m \u001b[49m\u001b[38;5;28;43;01mNone\u001b[39;49;00m\u001b[43m}\u001b[49m\u001b[43m)\u001b[49m\u001b[43m,\u001b[49m\n\u001b[0;32m    392\u001b[0m \u001b[43m    \u001b[49m\u001b[43mreturn_only_outputs\u001b[49m\u001b[38;5;241;43m=\u001b[39;49m\u001b[43mreturn_only_outputs\u001b[49m\u001b[43m,\u001b[49m\n\u001b[0;32m    393\u001b[0m \u001b[43m    \u001b[49m\u001b[43minclude_run_info\u001b[49m\u001b[38;5;241;43m=\u001b[39;49m\u001b[43minclude_run_info\u001b[49m\u001b[43m,\u001b[49m\n\u001b[0;32m    394\u001b[0m \u001b[43m\u001b[49m\u001b[43m)\u001b[49m\n",
      "File \u001b[1;32mc:\\Users\\admin\\AppData\\Local\\Programs\\Python\\Python310\\lib\\site-packages\\langchain\\chains\\base.py:170\u001b[0m, in \u001b[0;36mChain.invoke\u001b[1;34m(self, input, config, **kwargs)\u001b[0m\n\u001b[0;32m    168\u001b[0m \u001b[38;5;28;01mexcept\u001b[39;00m \u001b[38;5;167;01mBaseException\u001b[39;00m \u001b[38;5;28;01mas\u001b[39;00m e:\n\u001b[0;32m    169\u001b[0m     run_manager\u001b[38;5;241m.\u001b[39mon_chain_error(e)\n\u001b[1;32m--> 170\u001b[0m     \u001b[38;5;28;01mraise\u001b[39;00m e\n\u001b[0;32m    171\u001b[0m run_manager\u001b[38;5;241m.\u001b[39mon_chain_end(outputs)\n\u001b[0;32m    173\u001b[0m \u001b[38;5;28;01mif\u001b[39;00m include_run_info:\n",
      "File \u001b[1;32mc:\\Users\\admin\\AppData\\Local\\Programs\\Python\\Python310\\lib\\site-packages\\langchain\\chains\\base.py:158\u001b[0m, in \u001b[0;36mChain.invoke\u001b[1;34m(self, input, config, **kwargs)\u001b[0m\n\u001b[0;32m    151\u001b[0m run_manager \u001b[38;5;241m=\u001b[39m callback_manager\u001b[38;5;241m.\u001b[39mon_chain_start(\n\u001b[0;32m    152\u001b[0m     \u001b[38;5;28;01mNone\u001b[39;00m,\n\u001b[0;32m    153\u001b[0m     inputs,\n\u001b[0;32m    154\u001b[0m     run_id,\n\u001b[0;32m    155\u001b[0m     name\u001b[38;5;241m=\u001b[39mrun_name,\n\u001b[0;32m    156\u001b[0m )\n\u001b[0;32m    157\u001b[0m \u001b[38;5;28;01mtry\u001b[39;00m:\n\u001b[1;32m--> 158\u001b[0m     \u001b[38;5;28;43mself\u001b[39;49m\u001b[38;5;241;43m.\u001b[39;49m\u001b[43m_validate_inputs\u001b[49m\u001b[43m(\u001b[49m\u001b[43minputs\u001b[49m\u001b[43m)\u001b[49m\n\u001b[0;32m    159\u001b[0m     outputs \u001b[38;5;241m=\u001b[39m (\n\u001b[0;32m    160\u001b[0m         \u001b[38;5;28mself\u001b[39m\u001b[38;5;241m.\u001b[39m_call(inputs, run_manager\u001b[38;5;241m=\u001b[39mrun_manager)\n\u001b[0;32m    161\u001b[0m         \u001b[38;5;28;01mif\u001b[39;00m new_arg_supported\n\u001b[0;32m    162\u001b[0m         \u001b[38;5;28;01melse\u001b[39;00m \u001b[38;5;28mself\u001b[39m\u001b[38;5;241m.\u001b[39m_call(inputs)\n\u001b[0;32m    163\u001b[0m     )\n\u001b[0;32m    165\u001b[0m     final_outputs: Dict[\u001b[38;5;28mstr\u001b[39m, Any] \u001b[38;5;241m=\u001b[39m \u001b[38;5;28mself\u001b[39m\u001b[38;5;241m.\u001b[39mprep_outputs(\n\u001b[0;32m    166\u001b[0m         inputs, outputs, return_only_outputs\n\u001b[0;32m    167\u001b[0m     )\n",
      "File \u001b[1;32mc:\\Users\\admin\\AppData\\Local\\Programs\\Python\\Python310\\lib\\site-packages\\langchain\\chains\\base.py:290\u001b[0m, in \u001b[0;36mChain._validate_inputs\u001b[1;34m(self, inputs)\u001b[0m\n\u001b[0;32m    288\u001b[0m missing_keys \u001b[38;5;241m=\u001b[39m \u001b[38;5;28mset\u001b[39m(\u001b[38;5;28mself\u001b[39m\u001b[38;5;241m.\u001b[39minput_keys)\u001b[38;5;241m.\u001b[39mdifference(inputs)\n\u001b[0;32m    289\u001b[0m \u001b[38;5;28;01mif\u001b[39;00m missing_keys:\n\u001b[1;32m--> 290\u001b[0m     \u001b[38;5;28;01mraise\u001b[39;00m \u001b[38;5;167;01mValueError\u001b[39;00m(\u001b[38;5;124mf\u001b[39m\u001b[38;5;124m\"\u001b[39m\u001b[38;5;124mMissing some input keys: \u001b[39m\u001b[38;5;132;01m{\u001b[39;00mmissing_keys\u001b[38;5;132;01m}\u001b[39;00m\u001b[38;5;124m\"\u001b[39m)\n",
      "\u001b[1;31mValueError\u001b[0m: Missing some input keys: {'few_shot_output'}"
     ]
    }
   ],
   "source": [
    "plantuml_chain = LLMChain(llm=llm, prompt=plantuml_prompt)\n",
    "\n",
    "use_case_description = use_case_chain.run(use_case_title=\"Schedule Appointment\")\n",
    "plantuml_output = plantuml_chain.run(few_shot_output=use_case_description)"
   ]
  },
  {
   "cell_type": "code",
   "execution_count": null,
   "metadata": {},
   "outputs": [
    {
     "ename": "ValueError",
     "evalue": "Missing some input keys: {'few_shot_output'}",
     "output_type": "error",
     "traceback": [
      "\u001b[1;31m---------------------------------------------------------------------------\u001b[0m",
      "\u001b[1;31mValueError\u001b[0m                                Traceback (most recent call last)",
      "Cell \u001b[1;32mIn[14], line 1\u001b[0m\n\u001b[1;32m----> 1\u001b[0m plantuml_output \u001b[38;5;241m=\u001b[39m \u001b[43muse_case_chain\u001b[49m\u001b[38;5;241;43m.\u001b[39;49m\u001b[43mrun\u001b[49m\u001b[43m(\u001b[49m\u001b[43mproblem_statement\u001b[49m\u001b[38;5;241;43m=\u001b[39;49m\u001b[43mplantuml_prompt\u001b[49m\u001b[43m)\u001b[49m\n\u001b[0;32m      2\u001b[0m \u001b[38;5;28mprint\u001b[39m(\u001b[38;5;124m\"\u001b[39m\u001b[38;5;130;01m\\n\u001b[39;00m\u001b[38;5;124mGenerated PlantUML:\u001b[39m\u001b[38;5;130;01m\\n\u001b[39;00m\u001b[38;5;124m\"\u001b[39m)\n\u001b[0;32m      3\u001b[0m \u001b[38;5;28mprint\u001b[39m(few_shot_output)\n",
      "File \u001b[1;32mc:\\Users\\admin\\AppData\\Local\\Programs\\Python\\Python310\\lib\\site-packages\\langchain_core\\_api\\deprecation.py:181\u001b[0m, in \u001b[0;36mdeprecated.<locals>.deprecate.<locals>.warning_emitting_wrapper\u001b[1;34m(*args, **kwargs)\u001b[0m\n\u001b[0;32m    179\u001b[0m     warned \u001b[38;5;241m=\u001b[39m \u001b[38;5;28;01mTrue\u001b[39;00m\n\u001b[0;32m    180\u001b[0m     emit_warning()\n\u001b[1;32m--> 181\u001b[0m \u001b[38;5;28;01mreturn\u001b[39;00m wrapped(\u001b[38;5;241m*\u001b[39margs, \u001b[38;5;241m*\u001b[39m\u001b[38;5;241m*\u001b[39mkwargs)\n",
      "File \u001b[1;32mc:\\Users\\admin\\AppData\\Local\\Programs\\Python\\Python310\\lib\\site-packages\\langchain\\chains\\base.py:611\u001b[0m, in \u001b[0;36mChain.run\u001b[1;34m(self, callbacks, tags, metadata, *args, **kwargs)\u001b[0m\n\u001b[0;32m    606\u001b[0m     \u001b[38;5;28;01mreturn\u001b[39;00m \u001b[38;5;28mself\u001b[39m(args[\u001b[38;5;241m0\u001b[39m], callbacks\u001b[38;5;241m=\u001b[39mcallbacks, tags\u001b[38;5;241m=\u001b[39mtags, metadata\u001b[38;5;241m=\u001b[39mmetadata)[\n\u001b[0;32m    607\u001b[0m         _output_key\n\u001b[0;32m    608\u001b[0m     ]\n\u001b[0;32m    610\u001b[0m \u001b[38;5;28;01mif\u001b[39;00m kwargs \u001b[38;5;129;01mand\u001b[39;00m \u001b[38;5;129;01mnot\u001b[39;00m args:\n\u001b[1;32m--> 611\u001b[0m     \u001b[38;5;28;01mreturn\u001b[39;00m \u001b[38;5;28;43mself\u001b[39;49m\u001b[43m(\u001b[49m\u001b[43mkwargs\u001b[49m\u001b[43m,\u001b[49m\u001b[43m \u001b[49m\u001b[43mcallbacks\u001b[49m\u001b[38;5;241;43m=\u001b[39;49m\u001b[43mcallbacks\u001b[49m\u001b[43m,\u001b[49m\u001b[43m \u001b[49m\u001b[43mtags\u001b[49m\u001b[38;5;241;43m=\u001b[39;49m\u001b[43mtags\u001b[49m\u001b[43m,\u001b[49m\u001b[43m \u001b[49m\u001b[43mmetadata\u001b[49m\u001b[38;5;241;43m=\u001b[39;49m\u001b[43mmetadata\u001b[49m\u001b[43m)\u001b[49m[\n\u001b[0;32m    612\u001b[0m         _output_key\n\u001b[0;32m    613\u001b[0m     ]\n\u001b[0;32m    615\u001b[0m \u001b[38;5;28;01mif\u001b[39;00m \u001b[38;5;129;01mnot\u001b[39;00m kwargs \u001b[38;5;129;01mand\u001b[39;00m \u001b[38;5;129;01mnot\u001b[39;00m args:\n\u001b[0;32m    616\u001b[0m     \u001b[38;5;28;01mraise\u001b[39;00m \u001b[38;5;167;01mValueError\u001b[39;00m(\n\u001b[0;32m    617\u001b[0m         \u001b[38;5;124m\"\u001b[39m\u001b[38;5;124m`run` supported with either positional arguments or keyword arguments,\u001b[39m\u001b[38;5;124m\"\u001b[39m\n\u001b[0;32m    618\u001b[0m         \u001b[38;5;124m\"\u001b[39m\u001b[38;5;124m but none were provided.\u001b[39m\u001b[38;5;124m\"\u001b[39m\n\u001b[0;32m    619\u001b[0m     )\n",
      "File \u001b[1;32mc:\\Users\\admin\\AppData\\Local\\Programs\\Python\\Python310\\lib\\site-packages\\langchain_core\\_api\\deprecation.py:181\u001b[0m, in \u001b[0;36mdeprecated.<locals>.deprecate.<locals>.warning_emitting_wrapper\u001b[1;34m(*args, **kwargs)\u001b[0m\n\u001b[0;32m    179\u001b[0m     warned \u001b[38;5;241m=\u001b[39m \u001b[38;5;28;01mTrue\u001b[39;00m\n\u001b[0;32m    180\u001b[0m     emit_warning()\n\u001b[1;32m--> 181\u001b[0m \u001b[38;5;28;01mreturn\u001b[39;00m wrapped(\u001b[38;5;241m*\u001b[39margs, \u001b[38;5;241m*\u001b[39m\u001b[38;5;241m*\u001b[39mkwargs)\n",
      "File \u001b[1;32mc:\\Users\\admin\\AppData\\Local\\Programs\\Python\\Python310\\lib\\site-packages\\langchain\\chains\\base.py:389\u001b[0m, in \u001b[0;36mChain.__call__\u001b[1;34m(self, inputs, return_only_outputs, callbacks, tags, metadata, run_name, include_run_info)\u001b[0m\n\u001b[0;32m    357\u001b[0m \u001b[38;5;250m\u001b[39m\u001b[38;5;124;03m\"\"\"Execute the chain.\u001b[39;00m\n\u001b[0;32m    358\u001b[0m \n\u001b[0;32m    359\u001b[0m \u001b[38;5;124;03mArgs:\u001b[39;00m\n\u001b[1;32m   (...)\u001b[0m\n\u001b[0;32m    380\u001b[0m \u001b[38;5;124;03m        `Chain.output_keys`.\u001b[39;00m\n\u001b[0;32m    381\u001b[0m \u001b[38;5;124;03m\"\"\"\u001b[39;00m\n\u001b[0;32m    382\u001b[0m config \u001b[38;5;241m=\u001b[39m {\n\u001b[0;32m    383\u001b[0m     \u001b[38;5;124m\"\u001b[39m\u001b[38;5;124mcallbacks\u001b[39m\u001b[38;5;124m\"\u001b[39m: callbacks,\n\u001b[0;32m    384\u001b[0m     \u001b[38;5;124m\"\u001b[39m\u001b[38;5;124mtags\u001b[39m\u001b[38;5;124m\"\u001b[39m: tags,\n\u001b[0;32m    385\u001b[0m     \u001b[38;5;124m\"\u001b[39m\u001b[38;5;124mmetadata\u001b[39m\u001b[38;5;124m\"\u001b[39m: metadata,\n\u001b[0;32m    386\u001b[0m     \u001b[38;5;124m\"\u001b[39m\u001b[38;5;124mrun_name\u001b[39m\u001b[38;5;124m\"\u001b[39m: run_name,\n\u001b[0;32m    387\u001b[0m }\n\u001b[1;32m--> 389\u001b[0m \u001b[38;5;28;01mreturn\u001b[39;00m \u001b[38;5;28;43mself\u001b[39;49m\u001b[38;5;241;43m.\u001b[39;49m\u001b[43minvoke\u001b[49m\u001b[43m(\u001b[49m\n\u001b[0;32m    390\u001b[0m \u001b[43m    \u001b[49m\u001b[43minputs\u001b[49m\u001b[43m,\u001b[49m\n\u001b[0;32m    391\u001b[0m \u001b[43m    \u001b[49m\u001b[43mcast\u001b[49m\u001b[43m(\u001b[49m\u001b[43mRunnableConfig\u001b[49m\u001b[43m,\u001b[49m\u001b[43m \u001b[49m\u001b[43m{\u001b[49m\u001b[43mk\u001b[49m\u001b[43m:\u001b[49m\u001b[43m \u001b[49m\u001b[43mv\u001b[49m\u001b[43m \u001b[49m\u001b[38;5;28;43;01mfor\u001b[39;49;00m\u001b[43m \u001b[49m\u001b[43mk\u001b[49m\u001b[43m,\u001b[49m\u001b[43m \u001b[49m\u001b[43mv\u001b[49m\u001b[43m \u001b[49m\u001b[38;5;129;43;01min\u001b[39;49;00m\u001b[43m \u001b[49m\u001b[43mconfig\u001b[49m\u001b[38;5;241;43m.\u001b[39;49m\u001b[43mitems\u001b[49m\u001b[43m(\u001b[49m\u001b[43m)\u001b[49m\u001b[43m \u001b[49m\u001b[38;5;28;43;01mif\u001b[39;49;00m\u001b[43m \u001b[49m\u001b[43mv\u001b[49m\u001b[43m \u001b[49m\u001b[38;5;129;43;01mis\u001b[39;49;00m\u001b[43m \u001b[49m\u001b[38;5;129;43;01mnot\u001b[39;49;00m\u001b[43m \u001b[49m\u001b[38;5;28;43;01mNone\u001b[39;49;00m\u001b[43m}\u001b[49m\u001b[43m)\u001b[49m\u001b[43m,\u001b[49m\n\u001b[0;32m    392\u001b[0m \u001b[43m    \u001b[49m\u001b[43mreturn_only_outputs\u001b[49m\u001b[38;5;241;43m=\u001b[39;49m\u001b[43mreturn_only_outputs\u001b[49m\u001b[43m,\u001b[49m\n\u001b[0;32m    393\u001b[0m \u001b[43m    \u001b[49m\u001b[43minclude_run_info\u001b[49m\u001b[38;5;241;43m=\u001b[39;49m\u001b[43minclude_run_info\u001b[49m\u001b[43m,\u001b[49m\n\u001b[0;32m    394\u001b[0m \u001b[43m\u001b[49m\u001b[43m)\u001b[49m\n",
      "File \u001b[1;32mc:\\Users\\admin\\AppData\\Local\\Programs\\Python\\Python310\\lib\\site-packages\\langchain\\chains\\base.py:170\u001b[0m, in \u001b[0;36mChain.invoke\u001b[1;34m(self, input, config, **kwargs)\u001b[0m\n\u001b[0;32m    168\u001b[0m \u001b[38;5;28;01mexcept\u001b[39;00m \u001b[38;5;167;01mBaseException\u001b[39;00m \u001b[38;5;28;01mas\u001b[39;00m e:\n\u001b[0;32m    169\u001b[0m     run_manager\u001b[38;5;241m.\u001b[39mon_chain_error(e)\n\u001b[1;32m--> 170\u001b[0m     \u001b[38;5;28;01mraise\u001b[39;00m e\n\u001b[0;32m    171\u001b[0m run_manager\u001b[38;5;241m.\u001b[39mon_chain_end(outputs)\n\u001b[0;32m    173\u001b[0m \u001b[38;5;28;01mif\u001b[39;00m include_run_info:\n",
      "File \u001b[1;32mc:\\Users\\admin\\AppData\\Local\\Programs\\Python\\Python310\\lib\\site-packages\\langchain\\chains\\base.py:158\u001b[0m, in \u001b[0;36mChain.invoke\u001b[1;34m(self, input, config, **kwargs)\u001b[0m\n\u001b[0;32m    151\u001b[0m run_manager \u001b[38;5;241m=\u001b[39m callback_manager\u001b[38;5;241m.\u001b[39mon_chain_start(\n\u001b[0;32m    152\u001b[0m     \u001b[38;5;28;01mNone\u001b[39;00m,\n\u001b[0;32m    153\u001b[0m     inputs,\n\u001b[0;32m    154\u001b[0m     run_id,\n\u001b[0;32m    155\u001b[0m     name\u001b[38;5;241m=\u001b[39mrun_name,\n\u001b[0;32m    156\u001b[0m )\n\u001b[0;32m    157\u001b[0m \u001b[38;5;28;01mtry\u001b[39;00m:\n\u001b[1;32m--> 158\u001b[0m     \u001b[38;5;28;43mself\u001b[39;49m\u001b[38;5;241;43m.\u001b[39;49m\u001b[43m_validate_inputs\u001b[49m\u001b[43m(\u001b[49m\u001b[43minputs\u001b[49m\u001b[43m)\u001b[49m\n\u001b[0;32m    159\u001b[0m     outputs \u001b[38;5;241m=\u001b[39m (\n\u001b[0;32m    160\u001b[0m         \u001b[38;5;28mself\u001b[39m\u001b[38;5;241m.\u001b[39m_call(inputs, run_manager\u001b[38;5;241m=\u001b[39mrun_manager)\n\u001b[0;32m    161\u001b[0m         \u001b[38;5;28;01mif\u001b[39;00m new_arg_supported\n\u001b[0;32m    162\u001b[0m         \u001b[38;5;28;01melse\u001b[39;00m \u001b[38;5;28mself\u001b[39m\u001b[38;5;241m.\u001b[39m_call(inputs)\n\u001b[0;32m    163\u001b[0m     )\n\u001b[0;32m    165\u001b[0m     final_outputs: Dict[\u001b[38;5;28mstr\u001b[39m, Any] \u001b[38;5;241m=\u001b[39m \u001b[38;5;28mself\u001b[39m\u001b[38;5;241m.\u001b[39mprep_outputs(\n\u001b[0;32m    166\u001b[0m         inputs, outputs, return_only_outputs\n\u001b[0;32m    167\u001b[0m     )\n",
      "File \u001b[1;32mc:\\Users\\admin\\AppData\\Local\\Programs\\Python\\Python310\\lib\\site-packages\\langchain\\chains\\base.py:290\u001b[0m, in \u001b[0;36mChain._validate_inputs\u001b[1;34m(self, inputs)\u001b[0m\n\u001b[0;32m    288\u001b[0m missing_keys \u001b[38;5;241m=\u001b[39m \u001b[38;5;28mset\u001b[39m(\u001b[38;5;28mself\u001b[39m\u001b[38;5;241m.\u001b[39minput_keys)\u001b[38;5;241m.\u001b[39mdifference(inputs)\n\u001b[0;32m    289\u001b[0m \u001b[38;5;28;01mif\u001b[39;00m missing_keys:\n\u001b[1;32m--> 290\u001b[0m     \u001b[38;5;28;01mraise\u001b[39;00m \u001b[38;5;167;01mValueError\u001b[39;00m(\u001b[38;5;124mf\u001b[39m\u001b[38;5;124m\"\u001b[39m\u001b[38;5;124mMissing some input keys: \u001b[39m\u001b[38;5;132;01m{\u001b[39;00mmissing_keys\u001b[38;5;132;01m}\u001b[39;00m\u001b[38;5;124m\"\u001b[39m)\n",
      "\u001b[1;31mValueError\u001b[0m: Missing some input keys: {'few_shot_output'}"
     ]
    }
   ],
   "source": [
    "print(\"\\nGenerated PlantUML Script:\\n\")\n",
    "print(plantuml_output)"
   ]
  },
  {
   "cell_type": "code",
   "execution_count": null,
   "metadata": {},
   "outputs": [],
   "source": []
  },
  {
   "cell_type": "code",
   "execution_count": null,
   "metadata": {},
   "outputs": [],
   "source": []
  },
  {
   "cell_type": "code",
   "execution_count": null,
   "metadata": {},
   "outputs": [],
   "source": []
  },
  {
   "cell_type": "code",
   "execution_count": 30,
   "metadata": {},
   "outputs": [
    {
     "name": "stdout",
     "output_type": "stream",
     "text": [
      "[*] Generating UML Diagram...\n",
      "[✔] PlantUML Output: \n",
      "[✘] Error generating UML diagram: [WinError 183] Cannot create a file when that file already exists: 'use_case_diagram.png' -> 'airline_ticket_use_case.png'\n"
     ]
    }
   ],
   "source": [
    "import subprocess\n",
    "import os\n",
    "\n",
    "def generate_uml_diagram(plantuml_script, output_file=\"use_case_diagram.png\", jar_path=\"plantuml-1.2025.0.jar\"):\n",
    "    \"\"\"Generates a UML diagram from a PlantUML script.\"\"\"\n",
    "    \n",
    "    uml_file = \"use_case_diagram.txt\"\n",
    "    log_file = \"plantuml_log.txt\"\n",
    "\n",
    "    # Save PlantUML script to a file\n",
    "    with open(uml_file, \"w\") as file:\n",
    "        file.write(plantuml_script)\n",
    "    \n",
    "    # Run PlantUML and capture output/errors\n",
    "    try:\n",
    "        print(\"[*] Generating UML Diagram...\")\n",
    "        result = subprocess.run(\n",
    "            [\"java\", \"-jar\", jar_path, uml_file], capture_output=True, text=True\n",
    "        )\n",
    "\n",
    "        # Save logs\n",
    "        with open(log_file, \"w\") as log:\n",
    "            log.write(\"PlantUML Output:\\n\" + result.stdout + \"\\nPlantUML Errors:\\n\" + result.stderr)\n",
    "\n",
    "        print(\"[✔] PlantUML Output:\", result.stdout)\n",
    "        if result.stderr:\n",
    "            print(\"[!] PlantUML Errors:\", result.stderr)\n",
    "\n",
    "        # Check if the output file is created\n",
    "        generated_file = uml_file.replace(\".txt\", \".png\")\n",
    "        if os.path.exists(generated_file):\n",
    "            os.rename(generated_file, output_file)\n",
    "            print(f\"[✔] UML Diagram generated: {output_file}\")\n",
    "        else:\n",
    "            raise FileNotFoundError(\"PlantUML did not generate the expected output file.\")\n",
    "\n",
    "    except Exception as e:\n",
    "        print(f\"[✘] Error generating UML diagram: {str(e)}\")\n",
    "    \n",
    "    # Cleanup intermediate files\n",
    "    os.remove(uml_file)\n",
    "\n",
    "# Example Usage\n",
    "plantuml_script = \"\"\"\n",
    "@startuml\n",
    "actor Clerk\n",
    "actor \"Payment Gateway\" as PG\n",
    "actor \"Airline Reservation System\" as ARS\n",
    "participant \"System\" as SYS\n",
    "\n",
    "== Main Flow ==\n",
    "Clerk -> SYS : Select flight\n",
    "SYS -> Clerk : Retrieve ticket details, prompt for passenger info\n",
    "Clerk -> SYS : Enter passenger details, confirm selection\n",
    "SYS -> SYS : Validate entered details\n",
    "Clerk -> SYS : Submit payment request\n",
    "SYS -> PG : Forward payment request\n",
    "PG -> SYS : Authorize transaction, confirm payment\n",
    "SYS -> SYS : Generate ticket, assign PNR\n",
    "SYS -> ARS : Update reservation system\n",
    "SYS -> Clerk : Notify of successful booking\n",
    "\n",
    "@enduml\n",
    "\"\"\"\n",
    "\n",
    "generate_uml_diagram(plantuml_script, output_file=\"airline_ticket_use_case.png\")\n"
   ]
  },
  {
   "cell_type": "code",
   "execution_count": 31,
   "metadata": {},
   "outputs": [
    {
     "name": "stdout",
     "output_type": "stream",
     "text": [
      "[*] Generating UML Diagram...\n",
      "[✔] PlantUML Output: \n",
      "[✔] UML Diagram generated: use_case_diagram.png\n",
      "[✘] Failed to generate the UML diagram.\n"
     ]
    }
   ],
   "source": [
    "from langchain.schema.runnable import RunnableLambda, RunnableParallel\n",
    "from IPython.display import Image\n",
    "\n",
    "# Step 1: Generate textual use case\n",
    "def generate_textual_use_case(problem_statement):\n",
    "    try:\n",
    "        response = use_case_few_shot_prompt.invoke({\"problem_statement\": problem_statement})\n",
    "        return str(response)  # Ensure string format\n",
    "    except Exception as e:\n",
    "        print(f\"[✘] Error in generating textual use case: {str(e)}\")\n",
    "        return \"\"\n",
    "\n",
    "# Step 2: Convert textual use case to PlantUML script\n",
    "def generate_plantuml_script(use_case_cot_output):\n",
    "    try:\n",
    "        response = plantuml_prompt.invoke({\"use_case_cot_output\": use_case_cot_output})\n",
    "        return str(response.text)  # Convert StringPromptValue to string\n",
    "    except Exception as e:\n",
    "        print(f\"[✘] Error in generating PlantUML script: {str(e)}\")\n",
    "        return \"\"\n",
    "\n",
    "# Step 3: Render Use Case Diagram\n",
    "def render_use_case_diagram(plantuml_script):\n",
    "    try:\n",
    "        return generate_uml_diagram(str(plantuml_script))  # Ensure string format\n",
    "    except Exception as e:\n",
    "        print(f\"[✘] Error in rendering UML diagram: {str(e)}\")\n",
    "        return \"\"\n",
    "\n",
    "# Define LangChain Pipeline\n",
    "pipeline = (\n",
    "    RunnableParallel({\n",
    "        \"use_case_cot_output\": RunnableLambda(generate_textual_use_case)\n",
    "    })\n",
    "    .assign(plantuml_script=lambda x: generate_plantuml_script(x[\"use_case_cot_output\"]))\n",
    "    .assign(diagram=lambda x: render_use_case_diagram(x[\"plantuml_script\"]))\n",
    ")\n",
    "\n",
    "# Run the Full Pipeline\n",
    "problem_statement = \"An online learning platform allows students to enroll in courses, attend live lectures, and take quizzes. Instructors create courses and manage content.\"\n",
    "results = pipeline.invoke(problem_statement)\n",
    "\n",
    "# Display the generated diagram\n",
    "if results[\"diagram\"]:\n",
    "    Image(filename=results[\"diagram\"])\n",
    "else:\n",
    "    print(\"[✘] Failed to generate the UML diagram.\")\n"
   ]
  },
  {
   "cell_type": "code",
   "execution_count": null,
   "metadata": {},
   "outputs": [],
   "source": []
  },
  {
   "cell_type": "code",
   "execution_count": null,
   "metadata": {},
   "outputs": [],
   "source": []
  },
  {
   "cell_type": "code",
   "execution_count": null,
   "metadata": {},
   "outputs": [],
   "source": []
  }
 ],
 "metadata": {
  "kernelspec": {
   "display_name": "Python 3",
   "language": "python",
   "name": "python3"
  },
  "language_info": {
   "codemirror_mode": {
    "name": "ipython",
    "version": 3
   },
   "file_extension": ".py",
   "mimetype": "text/x-python",
   "name": "python",
   "nbconvert_exporter": "python",
   "pygments_lexer": "ipython3",
   "version": "3.10.7"
  }
 },
 "nbformat": 4,
 "nbformat_minor": 2
}
