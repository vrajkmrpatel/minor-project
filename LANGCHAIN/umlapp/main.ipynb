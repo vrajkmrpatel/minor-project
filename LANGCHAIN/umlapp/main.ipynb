{
 "cells": [
  {
   "cell_type": "markdown",
   "metadata": {},
   "source": [
    "## USE CASE GENERATION USING LLM"
   ]
  },
  {
   "cell_type": "code",
   "execution_count": 21,
   "metadata": {},
   "outputs": [],
   "source": [
    "import os\n",
    "from langchain_openai import ChatOpenAI  # OpenAI integration\n",
    "from langchain_core.prompts import PromptTemplate  # Core prompt handling\n",
    "from langchain.chains import LLMChain"
   ]
  },
  {
   "cell_type": "code",
   "execution_count": 22,
   "metadata": {},
   "outputs": [],
   "source": [
    "import os\n",
    "from dotenv import load_dotenv\n",
    "\n",
    "# Load environment variables from .env file\n",
    "load_dotenv()\n",
    "\n",
    "# Retrieve the OpenAI API key\n",
    "openai_api_key = os.getenv(\"OPENAI_API_KEY\")\n",
    "\n",
    "# Set the API key in LangChain/OpenAI\n",
    "os.environ[\"OPENAI_API_KEY\"] = openai_api_key\n"
   ]
  },
  {
   "cell_type": "markdown",
   "metadata": {},
   "source": [
    "### PROBLEM STATEMENT"
   ]
  },
  {
   "cell_type": "code",
   "execution_count": 25,
   "metadata": {},
   "outputs": [],
   "source": [
    "problem_statement = \"\"\"\n",
    "An Airline Ticketing System allows the Clerk to order tickets and to look for a suitable flight. In order to\n",
    "look up a ticket, the Clerk needs to enter the name of the traveler, the chosen flight, and finally booking\n",
    "the airline tickets. When looking up a flight, the system provides a list of available flights between two airports\n",
    "at a given date. There is also an option of multicity, where the customer chooses to fly through multiple\n",
    "destinations with halting. The system must allow the ability to look up a flight without having to order a\n",
    "ticket. When the order information to buy a ticket is entered, this information is automatically used to\n",
    "look up the flight.\n",
    "A third service (the help service) is available for the clerk while ordering a ticket to provide a help page\n",
    "specific to ordering tickets. The help service can be invoked independently by the Clerk, which will provide\n",
    "the Clerk with a “main” help page.\n",
    "\"\"\""
   ]
  },
  {
   "cell_type": "markdown",
   "metadata": {},
   "source": [
    "### FEW SHOT EXAMPLE"
   ]
  },
  {
   "cell_type": "code",
   "execution_count": 23,
   "metadata": {},
   "outputs": [],
   "source": [
    "use_case_few_shot_prompt = PromptTemplate(\n",
    "    input_variables=[\"problem_statement\"],\n",
    "    template=\"\"\"\n",
    "Assume you are a software engineer developing requirements for an Airline Ticketing System.\n",
    "Generate detailed standard textual use case models following the Requirement Documentation template.\n",
    "Identify all the goals of the system and write a use case for each goal. \n",
    "For every use case, there will be one primary actor, and there can be one or multiple secondary actors.\n",
    "An interaction step describes a base interaction step between the system and the environment (where the system must interact with at least one actor), and also describe alternatives for each of the base interaction steps.\n",
    "Identify any exceptions that may exist in these interaction steps.\n",
    "\n",
    "## FEW SHOT ##\n",
    "### Example Use Case Format ###\n",
    "Use Case: Order Ticket\n",
    "Primary Actor: Clerk\n",
    "Secondary Actors: Airline System, Payment Gateway\n",
    "Preconditions: The Clerk must be logged into the system.\n",
    "Steps:\n",
    "1. Clerk enters passenger details.\n",
    "2. Clerk selects the desired flight.\n",
    "3. Clerk proceeds to booking.\n",
    "4. System confirms ticket and generates PNR.\n",
    "\n",
    "Exceptions:\n",
    "- If the payment fails, prompt the user to retry.\n",
    "- If the flight is full, suggest alternative flights.\n",
    "\n",
    "Now generate any three use cases for the following problem statement:\n",
    "{problem_statement}\n",
    "\"\"\"\n",
    ")"
   ]
  },
  {
   "cell_type": "code",
   "execution_count": 24,
   "metadata": {},
   "outputs": [],
   "source": [
    "llm = ChatOpenAI(model_name=\"gpt-4\", temperature=0.5)\n",
    "use_case_chain = LLMChain(llm=llm, prompt=use_case_few_shot_prompt)"
   ]
  },
  {
   "cell_type": "code",
   "execution_count": 26,
   "metadata": {},
   "outputs": [
    {
     "name": "stdout",
     "output_type": "stream",
     "text": [
      "\n",
      "Generated Use Cases:\n",
      "\n",
      "### Use Case 1: Look Up Flight\n",
      "Primary Actor: Clerk\n",
      "Secondary Actors: Airline System\n",
      "Preconditions: The Clerk must be logged into the system.\n",
      "Steps:\n",
      "1. Clerk enters the departure and arrival airports and the date.\n",
      "2. System provides a list of available flights.\n",
      "3. Clerk selects the desired flight to view more details.\n",
      "\n",
      "Exceptions:\n",
      "- If no flights are available, inform the Clerk and suggest alternative dates or airports.\n",
      "\n",
      "### Use Case 2: Order Multicity Ticket\n",
      "Primary Actor: Clerk\n",
      "Secondary Actors: Airline System, Payment Gateway\n",
      "Preconditions: The Clerk must be logged into the system.\n",
      "Steps:\n",
      "1. Clerk enters passenger details.\n",
      "2. Clerk selects the \"Multicity\" option.\n",
      "3. Clerk enters the desired flight details for each leg of the journey.\n",
      "4. Clerk proceeds to booking.\n",
      "5. System confirms ticket and generates PNR.\n",
      "\n",
      "Exceptions:\n",
      "- If the payment fails, prompt the user to retry.\n",
      "- If any flight in the multicity journey is full, suggest alternative flights.\n",
      "\n",
      "### Use Case 3: Access Help Service\n",
      "Primary Actor: Clerk\n",
      "Secondary Actors: Help Service\n",
      "Preconditions: The Clerk must be logged into the system.\n",
      "Steps:\n",
      "1. Clerk selects the \"Help\" option.\n",
      "2. System provides the main help page.\n",
      "3. Clerk can navigate to the specific help page for ordering tickets.\n",
      "\n",
      "Exceptions:\n",
      "- If the help service is unavailable, inform the Clerk and suggest trying again later.\n"
     ]
    }
   ],
   "source": [
    "use_case_few_shot_output = use_case_chain.run(problem_statement=problem_statement)\n",
    "print(\"\\nGenerated Use Cases:\\n\")\n",
    "print(use_case_few_shot_output)"
   ]
  },
  {
   "cell_type": "markdown",
   "metadata": {},
   "source": [
    "### CHAIN OF THOUGHT EXAMPLE"
   ]
  },
  {
   "cell_type": "code",
   "execution_count": 32,
   "metadata": {},
   "outputs": [],
   "source": [
    "use_case_cot_prompt = PromptTemplate(\n",
    "    input_variables=[\"problem_statement\"],\n",
    "    template=\"\"\"\n",
    "Assume you are a software engineer developing an Airline Ticketing System.\n",
    "To ensure correctness, follow these steps:\n",
    "\n",
    "1️⃣ **Identify all the goals** of the system.  \n",
    "   Think carefully about what the system is trying to achieve and list all the goals.\n",
    "   \n",
    "2️⃣ For each goal, determine the **primary actor** (who initiates the action).  \n",
    "   Think about who will trigger the action for each goal. It could be a customer, an admin, or a system.\n",
    "\n",
    "3️⃣ Identify any **secondary actors** involved.  \n",
    "   These are entities that play a supporting role, such as systems or external services.\n",
    "\n",
    "4️⃣ Describe the **interaction steps** between actors and the system.  \n",
    "   Detail the sequence of actions that take place to fulfill the goal.\n",
    "\n",
    "5️⃣ Mention **exceptions** and alternative flows.  \n",
    "   Consider possible exceptions or edge cases where the flow might differ from the norm.\n",
    "\n",
    "### Example Use Case ###\n",
    "Use Case: Order Ticket\n",
    "Primary Actor: Clerk\n",
    "Secondary Actors: Airline System, Payment Gateway\n",
    "Preconditions: The Clerk must be logged into the system.\n",
    "\n",
    "Steps:\n",
    "1. Clerk enters passenger details.\n",
    "2. Clerk selects the desired flight.\n",
    "3. Airline System checks availability.\n",
    "4. Clerk proceeds to booking.\n",
    "5. System confirms booking and moves to payment.\n",
    "6. Clerk enters payment details.\n",
    "7. Payment Gateway processes payment.\n",
    "8. Airline System confirms payment.\n",
    "9. System generates PNR.\n",
    "10. Confirmation message is sent to the Clerk or Customer.\n",
    "\n",
    "Exceptions:\n",
    "1. If payment fails, prompt the Clerk to retry.\n",
    "2. If the flight is full, suggest alternative flights.\n",
    "3. If the PNR cannot be generated, notify the Clerk of the issue.\n",
    "\n",
    "Now, apply the same reasoning step-by-step to generate three use cases for:\n",
    "{problem_statement}\n",
    "\"\"\"\n",
    ")\n"
   ]
  },
  {
   "cell_type": "code",
   "execution_count": 33,
   "metadata": {},
   "outputs": [],
   "source": [
    "llm = ChatOpenAI(model_name=\"gpt-4\", temperature=0.5)\n",
    "use_case_chain = LLMChain(llm=llm, prompt=use_case_cot_prompt)"
   ]
  },
  {
   "cell_type": "code",
   "execution_count": 34,
   "metadata": {},
   "outputs": [
    {
     "name": "stdout",
     "output_type": "stream",
     "text": [
      "\n",
      "Generated Use Cases:\n",
      "\n",
      "Use Case 1: Look Up Flight\n",
      "Primary Actor: Clerk\n",
      "Secondary Actors: Airline System\n",
      "Preconditions: The Clerk must be logged into the system.\n",
      "\n",
      "Steps:\n",
      "\n",
      "1. Clerk enters departure and arrival airports, and the date of travel.\n",
      "2. Airline System provides a list of available flights.\n",
      "3. Clerk selects the desired flight for further details.\n",
      "4. Airline System provides flight details including availability, duration, and fare.\n",
      "5. Clerk can choose to proceed to booking or look up another flight.\n",
      "\n",
      "Exceptions:\n",
      "\n",
      "1. If no flights are available, inform the Clerk.\n",
      "2. If system error occurs while fetching flight details, notify the Clerk.\n",
      "\n",
      "Use Case 2: Order Ticket with Multicity Option\n",
      "Primary Actor: Clerk\n",
      "Secondary Actors: Airline System, Payment Gateway\n",
      "Preconditions: The Clerk must be logged into the system.\n",
      "\n",
      "Steps:\n",
      "\n",
      "1. Clerk enters passenger details.\n",
      "2. Clerk selects the 'Multicity' option and enters the desired flights sequence.\n",
      "3. Airline System checks availability for each flight.\n",
      "4. Clerk proceeds to booking.\n",
      "5. System confirms booking and moves to payment.\n",
      "6. Clerk enters payment details.\n",
      "7. Payment Gateway processes payment.\n",
      "8. Airline System confirms payment.\n",
      "9. System generates PNR for each flight.\n",
      "10. Confirmation message is sent to the Clerk or Customer.\n",
      "\n",
      "Exceptions:\n",
      "\n",
      "1. If payment fails, prompt the Clerk to retry.\n",
      "2. If any of the flights are full, suggest alternative flights.\n",
      "3. If the PNR cannot be generated, notify the Clerk of the issue.\n",
      "\n",
      "Use Case 3: Access Help Service\n",
      "Primary Actor: Clerk\n",
      "Secondary Actors: Help Service\n",
      "Preconditions: The Clerk must be logged into the system.\n",
      "\n",
      "Steps:\n",
      "\n",
      "1. Clerk selects the 'Help' option.\n",
      "2. Help Service provides a main help page.\n",
      "3. Clerk can browse through the help page or search for specific topics.\n",
      "4. Clerk can exit the help service at any time.\n",
      "\n",
      "Exceptions:\n",
      "\n",
      "1. If help service is not available, notify the Clerk.\n",
      "2. If system error occurs while accessing help service, notify the Clerk.\n"
     ]
    }
   ],
   "source": [
    "use_case_cot_output = use_case_chain.run(problem_statement=problem_statement)\n",
    "print(\"\\nGenerated Use Cases:\\n\")\n",
    "print(use_case_cot_output)"
   ]
  },
  {
   "cell_type": "code",
   "execution_count": null,
   "metadata": {},
   "outputs": [],
   "source": []
  },
  {
   "cell_type": "code",
   "execution_count": null,
   "metadata": {},
   "outputs": [],
   "source": []
  },
  {
   "cell_type": "code",
   "execution_count": null,
   "metadata": {},
   "outputs": [],
   "source": []
  },
  {
   "cell_type": "code",
   "execution_count": null,
   "metadata": {},
   "outputs": [],
   "source": []
  },
  {
   "cell_type": "code",
   "execution_count": null,
   "metadata": {},
   "outputs": [],
   "source": []
  },
  {
   "cell_type": "code",
   "execution_count": null,
   "metadata": {},
   "outputs": [],
   "source": []
  },
  {
   "cell_type": "code",
   "execution_count": 27,
   "metadata": {},
   "outputs": [
    {
     "name": "stdout",
     "output_type": "stream",
     "text": [
      "Extracted Actors: ['Payment Gateway', 'Clerk', 'Airline System', 'Help Service']\n",
      "Extracted Use Cases: []\n"
     ]
    }
   ],
   "source": [
    "import re\n",
    "\n",
    "def extract_actors_and_use_cases(text):\n",
    "    actors = set()\n",
    "    use_cases = []\n",
    "    lines = text.split(\"\\n\")\n",
    "    current_use_case = None\n",
    "    \n",
    "    for line in lines:\n",
    "        line = line.strip()  # Remove extra spaces\n",
    "\n",
    "        # Match \"Use Case: <name>\"\n",
    "        use_case_match = re.match(r\"Use Case:\\s*(.+)\", line)\n",
    "        if use_case_match:\n",
    "            current_use_case = use_case_match.group(1).strip()\n",
    "            use_cases.append(current_use_case)\n",
    "            continue  # Move to next line\n",
    "\n",
    "        # Match \"Primary Actor: <actor>\"\n",
    "        primary_actor_match = re.match(r\"Primary Actor:\\s*(.+)\", line)\n",
    "        if primary_actor_match:\n",
    "            actors.add(primary_actor_match.group(1).strip())\n",
    "\n",
    "        # Match \"Secondary Actors: <actor1>, <actor2>\"\n",
    "        secondary_actors_match = re.match(r\"Secondary Actors:\\s*(.+)\", line)\n",
    "        if secondary_actors_match:\n",
    "            sec_actors = secondary_actors_match.group(1).split(\",\")\n",
    "            actors.update([actor.strip() for actor in sec_actors if actor.strip().lower() != \"none\"])\n",
    "\n",
    "    return list(actors), use_cases\n",
    "\n",
    "# Run extraction function\n",
    "actors, use_cases = extract_actors_and_use_cases(use_case_output)\n",
    "\n",
    "# Print extracted values for debugging\n",
    "print(\"Extracted Actors:\", actors)\n",
    "print(\"Extracted Use Cases:\", use_cases)\n"
   ]
  }
 ],
 "metadata": {
  "kernelspec": {
   "display_name": "base",
   "language": "python",
   "name": "python3"
  },
  "language_info": {
   "codemirror_mode": {
    "name": "ipython",
    "version": 3
   },
   "file_extension": ".py",
   "mimetype": "text/x-python",
   "name": "python",
   "nbconvert_exporter": "python",
   "pygments_lexer": "ipython3",
   "version": "3.9.12"
  }
 },
 "nbformat": 4,
 "nbformat_minor": 2
}
