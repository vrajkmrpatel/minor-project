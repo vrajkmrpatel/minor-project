{
 "cells": [
  {
   "cell_type": "code",
   "execution_count": 4,
   "metadata": {},
   "outputs": [
    {
     "name": "stdout",
     "output_type": "stream",
     "text": [
      "Requirement already satisfied: langchain-ollama in c:\\users\\dell\\appdata\\local\\programs\\python\\python312\\lib\\site-packages (0.2.3)Note: you may need to restart the kernel to use updated packages.\n"
     ]
    },
    {
     "name": "stderr",
     "output_type": "stream",
     "text": [
      "\n",
      "[notice] A new release of pip is available: 24.1.1 -> 25.0.1\n",
      "[notice] To update, run: python.exe -m pip install --upgrade pip\n"
     ]
    },
    {
     "name": "stdout",
     "output_type": "stream",
     "text": [
      "\n",
      "Requirement already satisfied: langchain-core<0.4.0,>=0.3.33 in c:\\users\\dell\\appdata\\local\\programs\\python\\python312\\lib\\site-packages (from langchain-ollama) (0.3.40)\n",
      "Requirement already satisfied: ollama<1,>=0.4.4 in c:\\users\\dell\\appdata\\local\\programs\\python\\python312\\lib\\site-packages (from langchain-ollama) (0.4.7)\n",
      "Requirement already satisfied: langsmith<0.4,>=0.1.125 in c:\\users\\dell\\appdata\\local\\programs\\python\\python312\\lib\\site-packages (from langchain-core<0.4.0,>=0.3.33->langchain-ollama) (0.3.3)\n",
      "Requirement already satisfied: tenacity!=8.4.0,<10.0.0,>=8.1.0 in c:\\users\\dell\\appdata\\local\\programs\\python\\python312\\lib\\site-packages (from langchain-core<0.4.0,>=0.3.33->langchain-ollama) (9.0.0)\n",
      "Requirement already satisfied: jsonpatch<2.0,>=1.33 in c:\\users\\dell\\appdata\\local\\programs\\python\\python312\\lib\\site-packages (from langchain-core<0.4.0,>=0.3.33->langchain-ollama) (1.33)\n",
      "Requirement already satisfied: PyYAML>=5.3 in c:\\users\\dell\\appdata\\local\\programs\\python\\python312\\lib\\site-packages (from langchain-core<0.4.0,>=0.3.33->langchain-ollama) (6.0.1)\n",
      "Requirement already satisfied: packaging<25,>=23.2 in c:\\users\\dell\\appdata\\roaming\\python\\python312\\site-packages (from langchain-core<0.4.0,>=0.3.33->langchain-ollama) (24.0)\n",
      "Requirement already satisfied: typing-extensions>=4.7 in c:\\users\\dell\\appdata\\local\\programs\\python\\python312\\lib\\site-packages (from langchain-core<0.4.0,>=0.3.33->langchain-ollama) (4.12.2)\n",
      "Requirement already satisfied: pydantic<3.0.0,>=2.5.2 in c:\\users\\dell\\appdata\\local\\programs\\python\\python312\\lib\\site-packages (from langchain-core<0.4.0,>=0.3.33->langchain-ollama) (2.10.4)\n",
      "Requirement already satisfied: httpx<0.29,>=0.27 in c:\\users\\dell\\appdata\\local\\programs\\python\\python312\\lib\\site-packages (from ollama<1,>=0.4.4->langchain-ollama) (0.28.1)\n",
      "Requirement already satisfied: anyio in c:\\users\\dell\\appdata\\local\\programs\\python\\python312\\lib\\site-packages (from httpx<0.29,>=0.27->ollama<1,>=0.4.4->langchain-ollama) (4.7.0)\n",
      "Requirement already satisfied: certifi in c:\\users\\dell\\appdata\\local\\programs\\python\\python312\\lib\\site-packages (from httpx<0.29,>=0.27->ollama<1,>=0.4.4->langchain-ollama) (2024.7.4)\n",
      "Requirement already satisfied: httpcore==1.* in c:\\users\\dell\\appdata\\local\\programs\\python\\python312\\lib\\site-packages (from httpx<0.29,>=0.27->ollama<1,>=0.4.4->langchain-ollama) (1.0.7)\n",
      "Requirement already satisfied: idna in c:\\users\\dell\\appdata\\local\\programs\\python\\python312\\lib\\site-packages (from httpx<0.29,>=0.27->ollama<1,>=0.4.4->langchain-ollama) (3.7)\n",
      "Requirement already satisfied: h11<0.15,>=0.13 in c:\\users\\dell\\appdata\\local\\programs\\python\\python312\\lib\\site-packages (from httpcore==1.*->httpx<0.29,>=0.27->ollama<1,>=0.4.4->langchain-ollama) (0.14.0)\n",
      "Requirement already satisfied: jsonpointer>=1.9 in c:\\users\\dell\\appdata\\local\\programs\\python\\python312\\lib\\site-packages (from jsonpatch<2.0,>=1.33->langchain-core<0.4.0,>=0.3.33->langchain-ollama) (3.0.0)\n",
      "Requirement already satisfied: orjson<4.0.0,>=3.9.14 in c:\\users\\dell\\appdata\\local\\programs\\python\\python312\\lib\\site-packages (from langsmith<0.4,>=0.1.125->langchain-core<0.4.0,>=0.3.33->langchain-ollama) (3.10.15)\n",
      "Requirement already satisfied: requests<3,>=2 in c:\\users\\dell\\appdata\\local\\programs\\python\\python312\\lib\\site-packages (from langsmith<0.4,>=0.1.125->langchain-core<0.4.0,>=0.3.33->langchain-ollama) (2.32.3)\n",
      "Requirement already satisfied: requests-toolbelt<2.0.0,>=1.0.0 in c:\\users\\dell\\appdata\\local\\programs\\python\\python312\\lib\\site-packages (from langsmith<0.4,>=0.1.125->langchain-core<0.4.0,>=0.3.33->langchain-ollama) (1.0.0)\n",
      "Requirement already satisfied: zstandard<0.24.0,>=0.23.0 in c:\\users\\dell\\appdata\\local\\programs\\python\\python312\\lib\\site-packages (from langsmith<0.4,>=0.1.125->langchain-core<0.4.0,>=0.3.33->langchain-ollama) (0.23.0)\n",
      "Requirement already satisfied: annotated-types>=0.6.0 in c:\\users\\dell\\appdata\\local\\programs\\python\\python312\\lib\\site-packages (from pydantic<3.0.0,>=2.5.2->langchain-core<0.4.0,>=0.3.33->langchain-ollama) (0.7.0)\n",
      "Requirement already satisfied: pydantic-core==2.27.2 in c:\\users\\dell\\appdata\\local\\programs\\python\\python312\\lib\\site-packages (from pydantic<3.0.0,>=2.5.2->langchain-core<0.4.0,>=0.3.33->langchain-ollama) (2.27.2)\n",
      "Requirement already satisfied: charset-normalizer<4,>=2 in c:\\users\\dell\\appdata\\local\\programs\\python\\python312\\lib\\site-packages (from requests<3,>=2->langsmith<0.4,>=0.1.125->langchain-core<0.4.0,>=0.3.33->langchain-ollama) (3.3.2)\n",
      "Requirement already satisfied: urllib3<3,>=1.21.1 in c:\\users\\dell\\appdata\\local\\programs\\python\\python312\\lib\\site-packages (from requests<3,>=2->langsmith<0.4,>=0.1.125->langchain-core<0.4.0,>=0.3.33->langchain-ollama) (2.2.2)\n",
      "Requirement already satisfied: sniffio>=1.1 in c:\\users\\dell\\appdata\\local\\programs\\python\\python312\\lib\\site-packages (from anyio->httpx<0.29,>=0.27->ollama<1,>=0.4.4->langchain-ollama) (1.3.1)\n"
     ]
    }
   ],
   "source": [
    "# using ollama\n",
    "%pip install -U langchain-ollama"
   ]
  },
  {
   "cell_type": "code",
   "execution_count": 1,
   "metadata": {},
   "outputs": [
    {
     "name": "stderr",
     "output_type": "stream",
     "text": [
      "C:\\Users\\Dell\\AppData\\Local\\Temp\\ipykernel_11436\\1765651919.py:7: LangChainDeprecationWarning: The class `ChatOllama` was deprecated in LangChain 0.3.1 and will be removed in 1.0.0. An updated version of the class exists in the :class:`~langchain-ollama package and should be used instead. To use it run `pip install -U :class:`~langchain-ollama` and import as `from :class:`~langchain_ollama import ChatOllama``.\n",
      "  return ChatOllama(model=model_name, temperature=0.0)\n"
     ]
    }
   ],
   "source": [
    "import os\n",
    "from langchain_community.chat_models import ChatOllama\n",
    "from langchain.schema import SystemMessage, HumanMessage\n",
    "\n",
    "# Define function to initialize different local LLMs\n",
    "def get_local_llm(model_name):\n",
    "    return ChatOllama(model=model_name, temperature=0.0)\n",
    "\n",
    "# Available local models\n",
    "llama_model = get_local_llm(\"llama3.2\")\n",
    "deepseek_model = get_local_llm(\"deepseek-r1:1.5b\")"
   ]
  },
  {
   "cell_type": "code",
   "execution_count": 2,
   "metadata": {},
   "outputs": [],
   "source": [
    "problem_statement = \"\"\"Metro station wants to establish a TicketDistributor machine that issues tickets for\n",
    "passengers travelling on metro rails. Travellers have options of selecting a ticket for a single\n",
    "trip, round trips or multiple trips. They can also issue a metro pass for regular passengers or\n",
    "a time card for a day, a week or a month according to their requirements. The discounts on\n",
    "tickets will be provided to frequent travelling passengers. The machine is also supposed to\n",
    "read the metro pass and time cards issued by the metro counters or machine. The ticket rates\n",
    "differ based on whether the traveller is a child or an adult. The machine is also required to\n",
    "recognize original as well as fake currency notes. The typical transaction consists of a user\n",
    "using the display interface to select the type and quantity of tickets and then choosing a\n",
    "payment method of either cash, credit/debit card or smartcard. The tickets are printed and\n",
    "dispensed to the user. Also, the messaging facilities after every transaction are required on\n",
    "the registered number. The system can also be operated comfortably by a touch-screen. A\n",
    "large number of heavy components are to be used. We do not want our system to slow down,\n",
    "and also the usability of the machine.\n",
    "The TicketDistributor must be able to handle several exceptions, such as aborting the\n",
    "transaction for incomplete transactions, the insufficient amount given by the travellers to the\n",
    "machine, money return in case of an aborted transaction, change return after a successful\n",
    "transaction, showing insufficient balance in the card, updated information printed on the\n",
    "tickets e.g. departure time, date, time, price, valid from, valid till, validity duration, ticket\n",
    "issued from and destination station. In case of exceptions, an error message is to be displayed.\n",
    "We do not want user feedback after every development stage but after every two stages to\n",
    "save time. The machine is required to work in a heavy load environment such that in the\n",
    "morning and evening time on weekdays, and weekends performance and efficiency would\n",
    "not be affected.\"\"\""
   ]
  },
  {
   "cell_type": "code",
   "execution_count": 7,
   "metadata": {},
   "outputs": [
    {
     "name": "stdout",
     "output_type": "stream",
     "text": [
      "To extract potential class names from the problem statement, I'll follow the step-by-step approach:\n",
      "\n",
      "1. Identify key nouns representing domain concepts:\n",
      "   - TicketDistributor (system entity)\n",
      "   - Metro station (system entity)\n",
      "   - Traveller\n",
      "   - Passenger\n",
      "   - Trip\n",
      "   - Metro pass\n",
      "   - Time card\n",
      "   - Currency note\n",
      "   - Transaction\n",
      "   - User interface\n",
      "   - Touch-screen\n",
      "   - Machine\n",
      "   - Component\n",
      "\n",
      "2. Classify nouns representing roles or system entities as classes:\n",
      "   - TicketDistributor\n",
      "   - Metro station (can be classified as a class, e.g., \"MetroSystem\")\n",
      "   - Passenger\n",
      "   - Traveller\n",
      "\n",
      "3. Ignore verbs and adjectives:\n",
      "   - No need to ignore in this case, all the nouns are suitable for class names.\n",
      "\n",
      "4. Output the result in a structured JSON format like this:\n",
      "\n",
      "```json\n",
      "{\n",
      "    \"classes\": [\n",
      "        \"TicketDistributor\",\n",
      "        \"MetroSystem\",\n",
      "        \"Passenger\",\n",
      "        \"Traveller\"\n",
      "    ]\n",
      "}\n",
      "```\n",
      "\n",
      "Here's a more detailed breakdown of each noun:\n",
      "\n",
      "- TicketDistributor: The main system entity.\n",
      "- Metro station: Can be classified as a class, e.g., \"MetroSystem\".\n",
      "- Passenger and Traveller: These nouns represent roles. They can also be represented by a single class called \"User\" or \"Customer\".\n",
      "\n",
      "Here's the final output with the additional classes:\n",
      "\n",
      "```json\n",
      "{\n",
      "    \"classes\": [\n",
      "        \"TicketDistributor\",\n",
      "        \"MetroSystem\",\n",
      "        \"User\"\n",
      "    ]\n",
      "}\n",
      "```\n",
      "\n",
      "This output includes the main system entity, the metro station as a separate class for clarity and separation of concerns, and the user/customer class to represent the passenger and traveller roles.\n"
     ]
    }
   ],
   "source": [
    "import ollama\n",
    "\n",
    "def identify_classes(problem_statement):\n",
    "    \"\"\"\n",
    "    Identifies potential class names from a given problem statement using Gemini API with CoT prompting.\n",
    "    \"\"\"\n",
    "    prompt = f\"\"\"\n",
    "    You are an expert software analyst. Your task is to extract potential class names from a given problem statement. \n",
    "    Follow this step-by-step approach:\n",
    "\n",
    "    1. Identify the key **nouns** representing domain concepts.\n",
    "    2. If a noun represents a role or system entity, classify it as a **class**.\n",
    "    3. Ignore verbs and adjectives.\n",
    "    4. Output the result in a structured JSON format like this:\n",
    "       {{\"classes\": [\"Class1\", \"Class2\", \"Class3\"]}}\n",
    "\n",
    "    Problem Statement:\n",
    "    {problem_statement}\n",
    "\n",
    "    Now extract the class names based on the above rules.\n",
    "    \"\"\"\n",
    "      \n",
    "    response = ollama.chat(model=\"llama3.2\", messages=[{\"role\": \"user\", \"content\": prompt}])\n",
    "    \n",
    "    return response[\"message\"][\"content\"]\n",
    "\n",
    "    \n",
    "    # Debugging: Print raw response\n",
    "    # response_text = response.text.strip()\n",
    "    # print(\"Raw Response from Gemini:\\n\", response_text)\n",
    "\n",
    "    # Remove triple backticks and 'json' keyword\n",
    "    # cleaned_text = re.sub(r\"```json|```\", \"\", response_text).strip()\n",
    "\n",
    "    # Additional Debugging: Print cleaned text before parsing\n",
    "    # print(\"Cleaned JSON:\\n\", repr(cleaned_text))  # Use repr() to detect hidden characters\n",
    "\n",
    "     # Check if cleaned_text is empty\n",
    "    # if not cleaned_text:\n",
    "    #     print(\"Error: Cleaned JSON is empty. Cannot parse.\")\n",
    "    #     return {}\n",
    "\n",
    "    # # Parse JSON safely\n",
    "    # try:\n",
    "    #     output = json.loads(cleaned_text)  # Convert string to JSON\n",
    "    #     return output.get(\"classes\", {})  \n",
    "    # except json.JSONDecodeError as e:\n",
    "    #     print(\"JSON parsing error:\", str(e))\n",
    "    #     return {}\n",
    "\n",
    "identified_classes = identify_classes(problem_statement)\n",
    "print(identified_classes)\n"
   ]
  }
 ],
 "metadata": {
  "kernelspec": {
   "display_name": "Python 3",
   "language": "python",
   "name": "python3"
  },
  "language_info": {
   "codemirror_mode": {
    "name": "ipython",
    "version": 3
   },
   "file_extension": ".py",
   "mimetype": "text/x-python",
   "name": "python",
   "nbconvert_exporter": "python",
   "pygments_lexer": "ipython3",
   "version": "3.12.0"
  }
 },
 "nbformat": 4,
 "nbformat_minor": 2
}
