{
 "cells": [
  {
   "cell_type": "code",
   "execution_count": 1,
   "metadata": {},
   "outputs": [],
   "source": [
    "import openai\n",
    "import os\n",
    "from dotenv import load_dotenv"
   ]
  },
  {
   "cell_type": "code",
   "execution_count": 2,
   "metadata": {},
   "outputs": [],
   "source": [
    "# Load API key from .env file\n",
    "load_dotenv()\n",
    "openai.api_key = os.getenv(\"OPENAI_API_KEY\")"
   ]
  },
  {
   "cell_type": "code",
   "execution_count": 3,
   "metadata": {},
   "outputs": [
    {
     "name": "stdout",
     "output_type": "stream",
     "text": [
      "Extracting goals and actors from a given problem in requirements is an essential part of requirements analysis. Here’s a structured approach to guide you through this process:\n",
      "\n",
      "### 1. Understand the Context\n",
      "   - **Read the Problem Statement**: Carefully analyze the provided problem statement or requirements. Look for key information that indicates what is needed.\n",
      "   - **Identify Key Terms**: Highlight important terms, such as specific tasks, functionalities, and conditions.\n",
      "\n",
      "### 2. Identify Actors\n",
      "   Actors are entities that interact with the system. They can be users, other systems, or hardware. To identify actors:\n",
      "\n",
      "   - **Look for Explicit Mentions**: Check for mentions of users, roles, and external systems.\n",
      "   - **Consider Implicit Actors**: Think beyond what's stated. Consider who else might interact with the system (e.g., administrators, support personnel).\n",
      "   - **Categorize Actors**: Classify actors as primary (directly interact with the system) or secondary (indirectly interact, provide services, or support).\n",
      "\n",
      "### 3. Extract Goals\n",
      "   Goals represent what the actors want to achieve with the system. To extract these:\n",
      "\n",
      "   - **Examine Actors' Needs**: Determine what each actor is trying to accomplish as inferred from their interactions.\n",
      "   - **Use Action Verbs**: Look for verbs that indicate actions or outcomes (e.g., \"manage,\" \"track,\" \"report\").\n",
      "   - **Contextualize**: Understand the goals with respect to the system's functionality and how it serves its users.\n",
      "   - **Prioritize**: Some goals may be more critical than others; categorize them into primary and secondary goals.\n",
      "\n",
      "### 4. Validate with Stakeholders \n",
      "   - **Discuss with Stakeholders**: Engage with stakeholders to confirm the identified actors and goals.\n",
      "   - **Iterate**: Be ready to revisit and adjust the goals and actors based on feedback.\n",
      "\n",
      "### 5. Document Findings \n",
      "   - **Create Models**: Use tools like use case diagrams or user stories to represent actors and their goals visually.\n",
      "   - **Write Clear Descriptions**: Document each actor and goal clearly, including any relevant details about their interactions.\n",
      "\n",
      "### Example:\n",
      "\n",
      "**Problem Statement**: \"A library management system should allow librarians to manage book inventories and help patrons locate books.\"\n",
      "\n",
      "- **Identify Actors**:\n",
      "   - **Librarian**: Primary actor who manages inventory.\n",
      "   - **Patron**: Primary actor who searches for books.\n",
      "   - **System**: Secondary actor that interacts with both librarian and patron.\n",
      "\n",
      "- **Extract Goals**:\n",
      "   - **Librarian goals**:\n",
      "     - Manage book inventories (add, remove, update).\n",
      "     - Generate reports on book usage.\n",
      "   - **Patron goals**:\n",
      "     - Search for available books.\n",
      "     - Reserve books for checkout.\n",
      "\n",
      "By following these steps, you can effectively extract goals and actors from the given requirements, facilitating a better understanding of the system’s needs.\n"
     ]
    }
   ],
   "source": [
    "# Make a simple request to OpenAI\n",
    "completion = openai.chat.completions.create(\n",
    "    model=\"gpt-4o-mini\",\n",
    "    messages=[\n",
    "        {\"role\": \"system\", \"content\": \"You are my co-requirement analyst.\"},\n",
    "        {\n",
    "            \"role\": \"user\",\n",
    "            \"content\": \"How we can extract goals and actors from the given problem in requirements.\"\n",
    "        }\n",
    "    ]\n",
    ")\n",
    "\n",
    "print(completion.choices[0].message.content)"
   ]
  },
  {
   "cell_type": "markdown",
   "metadata": {},
   "source": []
  }
 ],
 "metadata": {
  "kernelspec": {
   "display_name": "Python 3",
   "language": "python",
   "name": "python3"
  },
  "language_info": {
   "codemirror_mode": {
    "name": "ipython",
    "version": 3
   },
   "file_extension": ".py",
   "mimetype": "text/x-python",
   "name": "python",
   "nbconvert_exporter": "python",
   "pygments_lexer": "ipython3",
   "version": "3.10.7"
  }
 },
 "nbformat": 4,
 "nbformat_minor": 2
}
